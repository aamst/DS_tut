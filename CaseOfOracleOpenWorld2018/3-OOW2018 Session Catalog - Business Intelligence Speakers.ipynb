{
 "cells": [
  {
   "cell_type": "markdown",
   "metadata": {},
   "source": [
    "# 3. Business Intelligence on Oracle OpenWorld & CodeOne Session Speakers\n",
    "\n",
    "This notebook uses session data from Oracle OpenWorld and CodeOne sessions to investigate a number of questions regarding the speakers at Oracle OpenWorld and CodeOne 2018 conferences. \n",
    "\n",
    "The data is loaded from our local data warehouse - the file `oow2018-sessions-wrangled.json` that is produced by the notebook <a href=\"./2-OOW2018 Session Catalog - Wrangling I - one single, refined, reshaped file.ipynb\">2-OOW2018 Session Catalog - Wrangling I - one single, refined, reshaped file.ipynb</a>. \n",
    "\n",
    "In this single, consolidated file with session records, the following features are readily available for each session:\n",
    "<table><tr>\n",
    "    <td>code</td><td>title</td><td>room</td>\n",
    "    </tr><tr>\n",
    "    <td>room capacity</td><td>track</td><td>oracle_yn</td>\n",
    "    </tr>\n",
    "    <tr>\n",
    "    <td>slides_uploaded_yn</td><td>day</td><td>time</td>\n",
    "    </tr>\n",
    "    <tr>\n",
    "    <td>number_of_speakers</td><td>speaker name</td><td>speaker job title</td>\n",
    "    </tr>\n",
    "    <tr>\n",
    "    <td>speaker_company</td><td>speaker designation (Java Champion, ACE Director, JavaOne Rockstart, Groundbreaker Ambassador)</td><td>level (Beginner, Intermediate, Advanced, All)</td>\n",
    "    </tr>\n",
    "    <tr>\n",
    "    <td>event (oow, codeone, both)</td><td>length of session</td><td>session type</td>\n",
    "    </tr>\n",
    "    </table>\n",
    "\n",
    "Some of the questions explored with this notebook:\n",
    "\n",
    "* <a href=\"#counting\">how many speakers contributed to Oracle OpenWorld and CodeOne? how many to both?</a>\n",
    "* <a href=\"#mostactive\">which speakers contributed to the largest number of sessions (most active speakers)</a>\n",
    "* <a href=\"#jobtitle\">what do speakers do in their regular day job: what are the job titles of the speakers?</a>\n",
    "* <a href=\"#designation\">how many of the speakers have a special designation or title? Are there notable differences across the two events?</a>\n",
    "* <a href=\"#company\">for which companies are speakers working? How important is the role of Oracle (speakers) in the two conferences?</a>  \n",
    "* <a href=\"#names\">what are the most popular first names of these speakers?</a>\n",
    "* <a href=\"#gender\">what is the gender distribution among these speakers? is this distribution different in different tracks or for different levels?</a> \n",
    "\n",
    "### <a href=\"#bonus\">Bonus</a>\n",
    "* how active are speakers in the public domain: github account? twitter? references in bio to blog, book, podcast, conferences\n",
    "* did speakers tweet about their own sessions (using the session code as a reference)?\n",
    "* what is the correlation between role, activity on Twitter and GitHub (and perhaps a personal blog) and the special designations of speakers (such as JavaOne Rockstar, ACE Director or Groundbreaker ambassadors)\n",
    "* do speakers with a special designation get a bigger room assigned than speakers in the same track and the same level without designation? \n",
    "\n",
    "\n",
    "## First step: create a Pandas Data Frame for Speaker Records\n",
    "Using the session data set read from the json file, we will create a data frame with speakers at the heart.\n",
    "\n",
    "First, load the session data from the file `oow2018-sessions-wrangled.json`.\n"
   ]
  },
  {
   "cell_type": "code",
   "execution_count": 279,
   "metadata": {},
   "outputs": [
    {
     "data": {
      "text/html": [
       "<div>\n",
       "<style scoped>\n",
       "    .dataframe tbody tr th:only-of-type {\n",
       "        vertical-align: middle;\n",
       "    }\n",
       "\n",
       "    .dataframe tbody tr th {\n",
       "        vertical-align: top;\n",
       "    }\n",
       "\n",
       "    .dataframe thead th {\n",
       "        text-align: right;\n",
       "    }\n",
       "</style>\n",
       "<table border=\"1\" class=\"dataframe\">\n",
       "  <thead>\n",
       "    <tr style=\"text-align: right;\">\n",
       "      <th></th>\n",
       "      <th>abstract</th>\n",
       "      <th>attributevalues</th>\n",
       "      <th>catalog</th>\n",
       "      <th>code</th>\n",
       "      <th>event</th>\n",
       "      <th>eventCode</th>\n",
       "      <th>files</th>\n",
       "      <th>length</th>\n",
       "      <th>participants</th>\n",
       "      <th>sponsors</th>\n",
       "      <th>...</th>\n",
       "      <th>Advanced</th>\n",
       "      <th>All</th>\n",
       "      <th>track</th>\n",
       "      <th>speaker_count</th>\n",
       "      <th>instance_count</th>\n",
       "      <th>room_capacity</th>\n",
       "      <th>room</th>\n",
       "      <th>day</th>\n",
       "      <th>time</th>\n",
       "      <th>session_timestamp</th>\n",
       "    </tr>\n",
       "  </thead>\n",
       "  <tbody>\n",
       "    <tr>\n",
       "      <th>0</th>\n",
       "      <td>What if you could benefit from new database qu...</td>\n",
       "      <td>[{'value': 'Beginner', 'attributevalue_id': '1...</td>\n",
       "      <td>oow</td>\n",
       "      <td>TRN4070</td>\n",
       "      <td>Oracle OpenWorld</td>\n",
       "      <td>oow18</td>\n",
       "      <td>[{'fileId': '1540594881063001PjdE', 'filename'...</td>\n",
       "      <td>45</td>\n",
       "      <td>[{'speakerId': '14574694377280015QNA_150393630...</td>\n",
       "      <td>None</td>\n",
       "      <td>...</td>\n",
       "      <td>Y</td>\n",
       "      <td>Y</td>\n",
       "      <td>[- Application Development, Oracle Cloud Platf...</td>\n",
       "      <td>3</td>\n",
       "      <td>1.0</td>\n",
       "      <td>308.0</td>\n",
       "      <td>Moscone West - Room 3009</td>\n",
       "      <td>Wednesday</td>\n",
       "      <td>11:15</td>\n",
       "      <td>1.540380e+12</td>\n",
       "    </tr>\n",
       "    <tr>\n",
       "      <th>1</th>\n",
       "      <td>How does a real-world performance engineer int...</td>\n",
       "      <td>[{'value': 'Beginner', 'attributevalue_id': '1...</td>\n",
       "      <td>oow</td>\n",
       "      <td>TRN4026</td>\n",
       "      <td>Oracle OpenWorld</td>\n",
       "      <td>oow18</td>\n",
       "      <td>[{'fileId': '1540053090863001JeFM', 'filename'...</td>\n",
       "      <td>45</td>\n",
       "      <td>[{'speakerId': '145746969078000151fg_150393630...</td>\n",
       "      <td>None</td>\n",
       "      <td>...</td>\n",
       "      <td>Y</td>\n",
       "      <td>Y</td>\n",
       "      <td>[- Application Development, Oracle Cloud Platf...</td>\n",
       "      <td>2</td>\n",
       "      <td>1.0</td>\n",
       "      <td>313.0</td>\n",
       "      <td>Moscone West - Room 3004</td>\n",
       "      <td>Monday</td>\n",
       "      <td>15:45</td>\n",
       "      <td>1.540223e+12</td>\n",
       "    </tr>\n",
       "    <tr>\n",
       "      <th>10</th>\n",
       "      <td>In this session learn how to make client data ...</td>\n",
       "      <td>[{'value': 'Beginner', 'attributevalue_id': '1...</td>\n",
       "      <td>oow</td>\n",
       "      <td>TRN6449</td>\n",
       "      <td>Oracle OpenWorld</td>\n",
       "      <td>oow18</td>\n",
       "      <td>[{'fileId': '1540334126918001DZZj', 'filename'...</td>\n",
       "      <td>45</td>\n",
       "      <td>[{'speakerId': '1500578268510001KsST_150393630...</td>\n",
       "      <td>None</td>\n",
       "      <td>...</td>\n",
       "      <td>Y</td>\n",
       "      <td>Y</td>\n",
       "      <td>[]</td>\n",
       "      <td>1</td>\n",
       "      <td>1.0</td>\n",
       "      <td>314.0</td>\n",
       "      <td>Moscone West - Room 3002</td>\n",
       "      <td>Tuesday</td>\n",
       "      <td>15:45</td>\n",
       "      <td>1.540310e+12</td>\n",
       "    </tr>\n",
       "    <tr>\n",
       "      <th>100</th>\n",
       "      <td>In this session learn how to  transfer your st...</td>\n",
       "      <td>[{'value': 'Product Training Session', 'attrib...</td>\n",
       "      <td>oow</td>\n",
       "      <td>TRN6527</td>\n",
       "      <td>Oracle OpenWorld</td>\n",
       "      <td>oow18</td>\n",
       "      <td>None</td>\n",
       "      <td>20</td>\n",
       "      <td>[{'speakerId': '14664511836130012Qxc_150393630...</td>\n",
       "      <td>None</td>\n",
       "      <td>...</td>\n",
       "      <td>N</td>\n",
       "      <td>N</td>\n",
       "      <td>[]</td>\n",
       "      <td>1</td>\n",
       "      <td>1.0</td>\n",
       "      <td>75.0</td>\n",
       "      <td>The Exchange @ Moscone South - OU Mini Theater</td>\n",
       "      <td>Wednesday</td>\n",
       "      <td>16:25</td>\n",
       "      <td>1.540398e+12</td>\n",
       "    </tr>\n",
       "    <tr>\n",
       "      <th>1000</th>\n",
       "      <td>With Java Flight Recorder (JFR) and Java Missi...</td>\n",
       "      <td>[{'value': 'Intermediate', 'attributevalue_id'...</td>\n",
       "      <td>codeone</td>\n",
       "      <td>DEV5490</td>\n",
       "      <td>Oracle Code One</td>\n",
       "      <td>oow18</td>\n",
       "      <td>None</td>\n",
       "      <td>45</td>\n",
       "      <td>[{'speakerId': '14574694362910015Agr_150393630...</td>\n",
       "      <td>None</td>\n",
       "      <td>...</td>\n",
       "      <td>Y</td>\n",
       "      <td>N</td>\n",
       "      <td>[Developer Community, Development Tools, Java ...</td>\n",
       "      <td>1</td>\n",
       "      <td>1.0</td>\n",
       "      <td>283.0</td>\n",
       "      <td>Moscone West - Room 2024</td>\n",
       "      <td>Tuesday</td>\n",
       "      <td>11:30</td>\n",
       "      <td>1.540294e+12</td>\n",
       "    </tr>\n",
       "  </tbody>\n",
       "</table>\n",
       "<p>5 rows × 32 columns</p>\n",
       "</div>"
      ],
      "text/plain": [
       "                                               abstract  \\\n",
       "0     What if you could benefit from new database qu...   \n",
       "1     How does a real-world performance engineer int...   \n",
       "10    In this session learn how to make client data ...   \n",
       "100   In this session learn how to  transfer your st...   \n",
       "1000  With Java Flight Recorder (JFR) and Java Missi...   \n",
       "\n",
       "                                        attributevalues  catalog     code  \\\n",
       "0     [{'value': 'Beginner', 'attributevalue_id': '1...      oow  TRN4070   \n",
       "1     [{'value': 'Beginner', 'attributevalue_id': '1...      oow  TRN4026   \n",
       "10    [{'value': 'Beginner', 'attributevalue_id': '1...      oow  TRN6449   \n",
       "100   [{'value': 'Product Training Session', 'attrib...      oow  TRN6527   \n",
       "1000  [{'value': 'Intermediate', 'attributevalue_id'...  codeone  DEV5490   \n",
       "\n",
       "                 event eventCode  \\\n",
       "0     Oracle OpenWorld     oow18   \n",
       "1     Oracle OpenWorld     oow18   \n",
       "10    Oracle OpenWorld     oow18   \n",
       "100   Oracle OpenWorld     oow18   \n",
       "1000   Oracle Code One     oow18   \n",
       "\n",
       "                                                  files  length  \\\n",
       "0     [{'fileId': '1540594881063001PjdE', 'filename'...      45   \n",
       "1     [{'fileId': '1540053090863001JeFM', 'filename'...      45   \n",
       "10    [{'fileId': '1540334126918001DZZj', 'filename'...      45   \n",
       "100                                                None      20   \n",
       "1000                                               None      45   \n",
       "\n",
       "                                           participants sponsors  ...  \\\n",
       "0     [{'speakerId': '14574694377280015QNA_150393630...     None  ...   \n",
       "1     [{'speakerId': '145746969078000151fg_150393630...     None  ...   \n",
       "10    [{'speakerId': '1500578268510001KsST_150393630...     None  ...   \n",
       "100   [{'speakerId': '14664511836130012Qxc_150393630...     None  ...   \n",
       "1000  [{'speakerId': '14574694362910015Agr_150393630...     None  ...   \n",
       "\n",
       "     Advanced All                                              track  \\\n",
       "0           Y   Y  [- Application Development, Oracle Cloud Platf...   \n",
       "1           Y   Y  [- Application Development, Oracle Cloud Platf...   \n",
       "10          Y   Y                                                 []   \n",
       "100         N   N                                                 []   \n",
       "1000        Y   N  [Developer Community, Development Tools, Java ...   \n",
       "\n",
       "     speaker_count instance_count room_capacity  \\\n",
       "0                3            1.0         308.0   \n",
       "1                2            1.0         313.0   \n",
       "10               1            1.0         314.0   \n",
       "100              1            1.0          75.0   \n",
       "1000             1            1.0         283.0   \n",
       "\n",
       "                                                room        day   time  \\\n",
       "0                           Moscone West - Room 3009  Wednesday  11:15   \n",
       "1                           Moscone West - Room 3004     Monday  15:45   \n",
       "10                          Moscone West - Room 3002    Tuesday  15:45   \n",
       "100   The Exchange @ Moscone South - OU Mini Theater  Wednesday  16:25   \n",
       "1000                        Moscone West - Room 2024    Tuesday  11:30   \n",
       "\n",
       "     session_timestamp  \n",
       "0         1.540380e+12  \n",
       "1         1.540223e+12  \n",
       "10        1.540310e+12  \n",
       "100       1.540398e+12  \n",
       "1000      1.540294e+12  \n",
       "\n",
       "[5 rows x 32 columns]"
      ]
     },
     "execution_count": 279,
     "metadata": {},
     "output_type": "execute_result"
    }
   ],
   "source": [
    "import pandas as pd\n",
    "#load session data from JSON file\n",
    "dataWarehouse = \"datawarehouse/\"\n",
    "ss= pd.read_json(\"{0}oow2018-sessions-wrangled.json\".format(dataWarehouse))\n",
    "#show first five rows in the dataframe\n",
    "ss.head(5)"
   ]
  },
  {
   "cell_type": "code",
   "execution_count": 280,
   "metadata": {},
   "outputs": [],
   "source": [
    "#function to derive designation flag from speakers\n",
    "# values for designation: JavaOne Rockstar, Oracle ACE Director, Oracle Java Champion, Groundbreaker Ambassador, \n",
    "def speaker_designation(speakerAttributeValues, designation):\n",
    "    result = \"N\"\n",
    "    # loop over speaker's attributevalues; if any exist with attribute_id == specialdesignations and value == JavaOne Rockstar\n",
    "    for y in speakerAttributeValues[:]:\n",
    "          if \"attribute_id\" in y: \n",
    "              if y[\"attribute_id\"]==\"specialdesignations\":\n",
    "                  if y[\"value\"]== designation:\n",
    "                      result=\"Y\"\n",
    "    return result\n",
    "\n",
    "def speaker_attribute(speakerAttributeValues, attribute_id):\n",
    "    result = None\n",
    "    # loop over speaker's attributevalues; if any exist with attribute_id == specialdesignations and value == JavaOne Rockstar\n",
    "    for y in speakerAttributeValues[:]:\n",
    "          if \"attribute_id\" in y: \n",
    "              if y[\"attribute_id\"]== attribute_id:\n",
    "                  result = y[\"value\"]\n",
    "    return result"
   ]
  },
  {
   "cell_type": "markdown",
   "metadata": {},
   "source": [
    "Create the `speakers` Data Frame - derived from the sessions data and with one record per speaker. Note: because speakers can occur multiple times in the sessions data (because they can contribute to multiple sessions), the cell below performs both inserts (the first time we encounter a speaker) and updates (when we next see a speaker again) into the `speakers` data frame. "
   ]
  },
  {
   "cell_type": "code",
   "execution_count": 281,
   "metadata": {},
   "outputs": [
    {
     "data": {
      "text/html": [
       "<div>\n",
       "<style scoped>\n",
       "    .dataframe tbody tr th:only-of-type {\n",
       "        vertical-align: middle;\n",
       "    }\n",
       "\n",
       "    .dataframe tbody tr th {\n",
       "        vertical-align: top;\n",
       "    }\n",
       "\n",
       "    .dataframe thead th {\n",
       "        text-align: right;\n",
       "    }\n",
       "</style>\n",
       "<table border=\"1\" class=\"dataframe\">\n",
       "  <thead>\n",
       "    <tr style=\"text-align: right;\">\n",
       "      <th></th>\n",
       "      <th>Groundbreaker Ambassador</th>\n",
       "      <th>JavaOne Rockstar</th>\n",
       "      <th>Oracle ACE Director</th>\n",
       "      <th>Oracle Java Champion</th>\n",
       "      <th>bio</th>\n",
       "      <th>codeone</th>\n",
       "      <th>companyName</th>\n",
       "      <th>firstName</th>\n",
       "      <th>jobTitle</th>\n",
       "      <th>lastName</th>\n",
       "      <th>oow</th>\n",
       "      <th>oracle_employee</th>\n",
       "      <th>photoURL</th>\n",
       "      <th>sessionCount</th>\n",
       "      <th>twitter</th>\n",
       "    </tr>\n",
       "  </thead>\n",
       "  <tbody>\n",
       "    <tr>\n",
       "      <th>0</th>\n",
       "      <td>N</td>\n",
       "      <td>N</td>\n",
       "      <td>N</td>\n",
       "      <td>N</td>\n",
       "      <td>Director of Product Management at Oracle cover...</td>\n",
       "      <td>Y</td>\n",
       "      <td>Oracle</td>\n",
       "      <td>Kuassi</td>\n",
       "      <td>Director, Product Management</td>\n",
       "      <td>Mensah</td>\n",
       "      <td>Y</td>\n",
       "      <td>Y</td>\n",
       "      <td>https://static.rainfocus.com/oracle/oow18/att/...</td>\n",
       "      <td>9</td>\n",
       "      <td>@kmensah</td>\n",
       "    </tr>\n",
       "    <tr>\n",
       "      <th>1</th>\n",
       "      <td>N</td>\n",
       "      <td>N</td>\n",
       "      <td>N</td>\n",
       "      <td>N</td>\n",
       "      <td>-</td>\n",
       "      <td>N</td>\n",
       "      <td>Oracle</td>\n",
       "      <td>Srinath</td>\n",
       "      <td>Senior Director</td>\n",
       "      <td>Krishnaswamy</td>\n",
       "      <td>Y</td>\n",
       "      <td>Y</td>\n",
       "      <td>None</td>\n",
       "      <td>1</td>\n",
       "      <td>None</td>\n",
       "    </tr>\n",
       "    <tr>\n",
       "      <th>2</th>\n",
       "      <td>N</td>\n",
       "      <td>N</td>\n",
       "      <td>N</td>\n",
       "      <td>N</td>\n",
       "      <td>Kant is Director of Development within Server ...</td>\n",
       "      <td>N</td>\n",
       "      <td>Oracle</td>\n",
       "      <td>Kant</td>\n",
       "      <td>Director</td>\n",
       "      <td>Patel</td>\n",
       "      <td>Y</td>\n",
       "      <td>Y</td>\n",
       "      <td>None</td>\n",
       "      <td>2</td>\n",
       "      <td>None</td>\n",
       "    </tr>\n",
       "    <tr>\n",
       "      <th>3</th>\n",
       "      <td>N</td>\n",
       "      <td>N</td>\n",
       "      <td>N</td>\n",
       "      <td>N</td>\n",
       "      <td>A Development Manager within the Real-World Pe...</td>\n",
       "      <td>N</td>\n",
       "      <td>Oracle</td>\n",
       "      <td>Robert</td>\n",
       "      <td>Software Development Manager, Real World Perfo...</td>\n",
       "      <td>Carlin</td>\n",
       "      <td>Y</td>\n",
       "      <td>Y</td>\n",
       "      <td>None</td>\n",
       "      <td>1</td>\n",
       "      <td>None</td>\n",
       "    </tr>\n",
       "    <tr>\n",
       "      <th>4</th>\n",
       "      <td>N</td>\n",
       "      <td>N</td>\n",
       "      <td>N</td>\n",
       "      <td>N</td>\n",
       "      <td>Software engineer within the Real-World Perfor...</td>\n",
       "      <td>N</td>\n",
       "      <td>Oracle</td>\n",
       "      <td>Mihajlo</td>\n",
       "      <td>Consulting Member of Technical Staff</td>\n",
       "      <td>Tekic</td>\n",
       "      <td>Y</td>\n",
       "      <td>Y</td>\n",
       "      <td>None</td>\n",
       "      <td>1</td>\n",
       "      <td>None</td>\n",
       "    </tr>\n",
       "  </tbody>\n",
       "</table>\n",
       "</div>"
      ],
      "text/plain": [
       "  Groundbreaker Ambassador JavaOne Rockstar Oracle ACE Director  \\\n",
       "0                        N                N                   N   \n",
       "1                        N                N                   N   \n",
       "2                        N                N                   N   \n",
       "3                        N                N                   N   \n",
       "4                        N                N                   N   \n",
       "\n",
       "  Oracle Java Champion                                                bio  \\\n",
       "0                    N  Director of Product Management at Oracle cover...   \n",
       "1                    N                                                  -   \n",
       "2                    N  Kant is Director of Development within Server ...   \n",
       "3                    N  A Development Manager within the Real-World Pe...   \n",
       "4                    N  Software engineer within the Real-World Perfor...   \n",
       "\n",
       "  codeone companyName firstName  \\\n",
       "0       Y      Oracle    Kuassi   \n",
       "1       N      Oracle   Srinath   \n",
       "2       N      Oracle      Kant   \n",
       "3       N      Oracle    Robert   \n",
       "4       N      Oracle   Mihajlo   \n",
       "\n",
       "                                            jobTitle      lastName oow  \\\n",
       "0                       Director, Product Management        Mensah   Y   \n",
       "1                                    Senior Director  Krishnaswamy   Y   \n",
       "2                                           Director         Patel   Y   \n",
       "3  Software Development Manager, Real World Perfo...        Carlin   Y   \n",
       "4               Consulting Member of Technical Staff         Tekic   Y   \n",
       "\n",
       "  oracle_employee                                           photoURL  \\\n",
       "0               Y  https://static.rainfocus.com/oracle/oow18/att/...   \n",
       "1               Y                                               None   \n",
       "2               Y                                               None   \n",
       "3               Y                                               None   \n",
       "4               Y                                               None   \n",
       "\n",
       "   sessionCount   twitter  \n",
       "0             9  @kmensah  \n",
       "1             1      None  \n",
       "2             2      None  \n",
       "3             1      None  \n",
       "4             1      None  "
      ]
     },
     "execution_count": 281,
     "metadata": {},
     "output_type": "execute_result"
    }
   ],
   "source": [
    "## Some Initial Wrangling - Transpose Data - Speakers First\n",
    "# Let's create a data frame organized by speaker and their primary attributes: firstName, lastName, jobTitle, company,\n",
    "# number of sessions, special designations, twitter, github, OracleEmployee\n",
    "\n",
    "designations = ['JavaOne Rockstar', 'Oracle ACE Director', 'Oracle Java Champion', 'Groundbreaker Ambassador']\n",
    "\n",
    "# Create a dict of dictionaries in which each dictionary corresponds to speaker and the firstname+lastname is the key.\n",
    "# Create a data frame from the list of dictionaries in this dictionary.\n",
    "speakers = {}\n",
    "#iterate over all sessions and for each session over all participants\n",
    "for index, row in ss.iterrows():\n",
    "    for speaker in row[\"participants\"]:\n",
    "        key = speaker['firstName']+'.'+speaker['lastName']\n",
    "        # check if we already have a row in speaker_list sp with the same firstName and lastName\n",
    "        skr = speakers.get(key,None)\n",
    "        if skr==None:\n",
    "            #obTitle, company, number of sessions, special designations, twitter, github, OracleEmployee\n",
    "            skr = { 'firstName':speaker['firstName']\n",
    "                  , 'lastName': speaker['lastName']\n",
    "                  , 'jobTitle': speaker.get('jobTitle','-')\n",
    "                  , 'companyName': speaker.get('companyName','-')\n",
    "                  , 'bio': speaker.get('bio','-')\n",
    "                  , 'oracle_employee': 'Y' if (\"oracle\" in speaker.get('companyName','-').lower()) else 'N'\n",
    "                  , 'photoURL' :  speaker.get('photoURL',None)\n",
    "                  , 'twitter' :  speaker.get('twitter',None)\n",
    "                  , 'sessionCount': 1\n",
    "                  , 'oow': 'Y' if row['event'] == 'Oracle OpenWorld' else 'N'\n",
    "                  , 'codeone': 'Y' if row['event'] == 'Oracle Code One' else 'N'\n",
    "                  }\n",
    "            for d in designations:\n",
    "                skr[d] = speaker_designation(speaker.get('attributevalues',[]), d)\n",
    "           \n",
    "        else: # else is when a speaker is already in the speakers data frame and only should be updated \n",
    "            skr['sessionCount']+=1 \n",
    "            if skr['oow']=='N':\n",
    "                skr['oow']= 'Y' if row['event'] == 'Oracle OpenWorld' else 'N'\n",
    "            if skr['codeone']=='N':\n",
    "                skr['codeone'] =  'Y' if row['event'] == 'Oracle Code One' else 'N'\n",
    "        speakers[key] = skr\n",
    "        \n",
    "# turn the list of speaker dicts - the values in the speakers dict - into a dataframe \n",
    "sp = pd.DataFrame(list(speakers.values()))   \n",
    "sp.head(5)\n",
    "#sp.info()\n"
   ]
  },
  {
   "cell_type": "markdown",
   "metadata": {},
   "source": [
    "<a name=\"counting\"/>"
   ]
  },
  {
   "cell_type": "markdown",
   "metadata": {},
   "source": [
    "# Counting Speakers\n",
    "Let's start with a few simple questions. How many different speakers contributed to the sessions at Oracle OpenWorld and CodeOne in total? How many participated in both events? \n",
    "\n",
    "We will first learn the number of speaker records. Then we will count the speakers per event they contribute to - and present those findings in a cross table."
   ]
  },
  {
   "cell_type": "code",
   "execution_count": 282,
   "metadata": {},
   "outputs": [
    {
     "data": {
      "text/plain": [
       "(2582, 15)"
      ]
     },
     "execution_count": 282,
     "metadata": {},
     "output_type": "execute_result"
    }
   ],
   "source": [
    "# quickest way to get your bearings around a data frame: learn number of rows (number of speaker records) and number of columns\n",
    "sp.shape"
   ]
  },
  {
   "cell_type": "code",
   "execution_count": 283,
   "metadata": {},
   "outputs": [
    {
     "data": {
      "text/html": [
       "<div>\n",
       "<style scoped>\n",
       "    .dataframe tbody tr th:only-of-type {\n",
       "        vertical-align: middle;\n",
       "    }\n",
       "\n",
       "    .dataframe tbody tr th {\n",
       "        vertical-align: top;\n",
       "    }\n",
       "\n",
       "    .dataframe thead th {\n",
       "        text-align: right;\n",
       "    }\n",
       "</style>\n",
       "<table border=\"1\" class=\"dataframe\">\n",
       "  <thead>\n",
       "    <tr style=\"text-align: right;\">\n",
       "      <th></th>\n",
       "      <th>oow</th>\n",
       "      <th>codeone</th>\n",
       "      <th>counts</th>\n",
       "    </tr>\n",
       "  </thead>\n",
       "  <tbody>\n",
       "    <tr>\n",
       "      <th>0</th>\n",
       "      <td>N</td>\n",
       "      <td>Y</td>\n",
       "      <td>383</td>\n",
       "    </tr>\n",
       "    <tr>\n",
       "      <th>1</th>\n",
       "      <td>Y</td>\n",
       "      <td>N</td>\n",
       "      <td>2108</td>\n",
       "    </tr>\n",
       "    <tr>\n",
       "      <th>2</th>\n",
       "      <td>Y</td>\n",
       "      <td>Y</td>\n",
       "      <td>91</td>\n",
       "    </tr>\n",
       "  </tbody>\n",
       "</table>\n",
       "</div>"
      ],
      "text/plain": [
       "  oow codeone  counts\n",
       "0   N       Y     383\n",
       "1   Y       N    2108\n",
       "2   Y       Y      91"
      ]
     },
     "execution_count": 283,
     "metadata": {},
     "output_type": "execute_result"
    }
   ],
   "source": [
    "# number of speakers on each event\n",
    "#Show the count for various combinations of speakers presenting at OOW and presenting at CodeOne and at both\n",
    "summ = sp.groupby(['oow', 'codeone']).size().reset_index(name='counts')\n",
    "summ"
   ]
  },
  {
   "cell_type": "code",
   "execution_count": 284,
   "metadata": {},
   "outputs": [
    {
     "data": {
      "text/html": [
       "<div>\n",
       "<style scoped>\n",
       "    .dataframe tbody tr th:only-of-type {\n",
       "        vertical-align: middle;\n",
       "    }\n",
       "\n",
       "    .dataframe tbody tr th {\n",
       "        vertical-align: top;\n",
       "    }\n",
       "\n",
       "    .dataframe thead th {\n",
       "        text-align: right;\n",
       "    }\n",
       "</style>\n",
       "<table border=\"1\" class=\"dataframe\">\n",
       "  <thead>\n",
       "    <tr style=\"text-align: right;\">\n",
       "      <th>codeone</th>\n",
       "      <th>N</th>\n",
       "      <th>Y</th>\n",
       "    </tr>\n",
       "    <tr>\n",
       "      <th>oow</th>\n",
       "      <th></th>\n",
       "      <th></th>\n",
       "    </tr>\n",
       "  </thead>\n",
       "  <tbody>\n",
       "    <tr>\n",
       "      <th>N</th>\n",
       "      <td>0</td>\n",
       "      <td>383</td>\n",
       "    </tr>\n",
       "    <tr>\n",
       "      <th>Y</th>\n",
       "      <td>2108</td>\n",
       "      <td>91</td>\n",
       "    </tr>\n",
       "  </tbody>\n",
       "</table>\n",
       "</div>"
      ],
      "text/plain": [
       "codeone     N    Y\n",
       "oow               \n",
       "N           0  383\n",
       "Y        2108   91"
      ]
     },
     "execution_count": 284,
     "metadata": {},
     "output_type": "execute_result"
    }
   ],
   "source": [
    "# or use crosstab as an easier way to present two-dimensional counts in a cross table \n",
    "pd.crosstab(sp.oow, sp.codeone)"
   ]
  },
  {
   "cell_type": "markdown",
   "metadata": {},
   "source": [
    "Anything well represented in a 2x2 cross tab lends itself to visualization in a Venn diagram. Let's create one for the speaker count. This makes the information more easily digestable for us humans. "
   ]
  },
  {
   "cell_type": "code",
   "execution_count": 285,
   "metadata": {},
   "outputs": [
    {
     "data": {
      "image/png": "[encoded data removed]",
      "text/plain": [
       "<Figure size 432x288 with 1 Axes>"
      ]
     },
     "metadata": {},
     "output_type": "display_data"
    }
   ],
   "source": [
    "import matplotlib.pyplot as plt\n",
    "# see https://pypi.org/project/matplotlib-venn/ \n",
    "from matplotlib_venn import venn2\n",
    "# the next line is for making the output from matplotlib appear inline in the notebook\n",
    "%matplotlib inline\n",
    " \n",
    "venn2( subsets = ( summ.loc[0]['counts']  #YN - CodeOne and not OOW \n",
    "                 , summ.loc[1]['counts']  #NY - not CodeOne and OOW\n",
    "                 , summ.loc[2]['counts']  #YY - both CodeOne and OOW\n",
    "                )\n",
    "     , set_labels = ('CodeOne','OpenWorld' )\n",
    "     )\n",
    "plt.suptitle(\"Number of speakers per event\")\n",
    "plt.show()"
   ]
  },
  {
   "cell_type": "markdown",
   "metadata": {},
   "source": [
    "<a name=\"mostactive\" />"
   ]
  },
  {
   "cell_type": "markdown",
   "metadata": {},
   "source": [
    "# Most active speaker with the highest session count\n",
    "\n",
    "Each speaker record has the feature `sessionCount` that indicates the number of sessions of which the speaker is a participant. The following cell identifies the record in the speakers data frame for which the sessionCount has the highest value:"
   ]
  },
  {
   "cell_type": "code",
   "execution_count": 286,
   "metadata": {},
   "outputs": [
    {
     "data": {
      "text/plain": [
       "Groundbreaker Ambassador                                                    N\n",
       "JavaOne Rockstar                                                            N\n",
       "Oracle ACE Director                                                         N\n",
       "Oracle Java Champion                                                        N\n",
       "bio                         J. David Mills – Senior Principal Instructor\\n...\n",
       "codeone                                                                     N\n",
       "companyName                                                            Oracle\n",
       "firstName                                                               David\n",
       "jobTitle                                                                     \n",
       "lastName                                                                Mills\n",
       "oow                                                                         Y\n",
       "oracle_employee                                                             Y\n",
       "photoURL                    https://static.rainfocus.com/oracle/oow18/att/...\n",
       "sessionCount                                                               12\n",
       "twitter                                                                  None\n",
       "Name: 1682, dtype: object"
      ]
     },
     "execution_count": 286,
     "metadata": {},
     "output_type": "execute_result"
    }
   ],
   "source": [
    "#highest session count: (see https://stackoverflow.com/questions/15741759/find-maximum-value-of-a-column-and-return-the-corresponding-row-values-using-pan )\n",
    "# this statement finds the row with the highest value for column sessionCount and subsequently returns the entire row\n",
    "sp.loc[sp['sessionCount'].idxmax()]"
   ]
  },
  {
   "cell_type": "markdown",
   "metadata": {},
   "source": [
    "We also list the top 5 active speakers by sorting the data frame:"
   ]
  },
  {
   "cell_type": "code",
   "execution_count": 287,
   "metadata": {},
   "outputs": [
    {
     "data": {
      "text/html": [
       "<div>\n",
       "<style scoped>\n",
       "    .dataframe tbody tr th:only-of-type {\n",
       "        vertical-align: middle;\n",
       "    }\n",
       "\n",
       "    .dataframe tbody tr th {\n",
       "        vertical-align: top;\n",
       "    }\n",
       "\n",
       "    .dataframe thead th {\n",
       "        text-align: right;\n",
       "    }\n",
       "</style>\n",
       "<table border=\"1\" class=\"dataframe\">\n",
       "  <thead>\n",
       "    <tr style=\"text-align: right;\">\n",
       "      <th></th>\n",
       "      <th>firstName</th>\n",
       "      <th>lastName</th>\n",
       "      <th>companyName</th>\n",
       "      <th>sessionCount</th>\n",
       "    </tr>\n",
       "  </thead>\n",
       "  <tbody>\n",
       "    <tr>\n",
       "      <th>1682</th>\n",
       "      <td>David</td>\n",
       "      <td>Mills</td>\n",
       "      <td>Oracle</td>\n",
       "      <td>12</td>\n",
       "    </tr>\n",
       "    <tr>\n",
       "      <th>351</th>\n",
       "      <td>Maciej</td>\n",
       "      <td>Gruszka</td>\n",
       "      <td>Oracle</td>\n",
       "      <td>11</td>\n",
       "    </tr>\n",
       "    <tr>\n",
       "      <th>0</th>\n",
       "      <td>Kuassi</td>\n",
       "      <td>Mensah</td>\n",
       "      <td>Oracle</td>\n",
       "      <td>9</td>\n",
       "    </tr>\n",
       "    <tr>\n",
       "      <th>6</th>\n",
       "      <td>Susan</td>\n",
       "      <td>Jang</td>\n",
       "      <td>Oracle</td>\n",
       "      <td>9</td>\n",
       "    </tr>\n",
       "    <tr>\n",
       "      <th>569</th>\n",
       "      <td>Pyounguk</td>\n",
       "      <td>Cho</td>\n",
       "      <td>Oracle</td>\n",
       "      <td>9</td>\n",
       "    </tr>\n",
       "  </tbody>\n",
       "</table>\n",
       "</div>"
      ],
      "text/plain": [
       "     firstName lastName companyName  sessionCount\n",
       "1682     David    Mills      Oracle            12\n",
       "351     Maciej  Gruszka      Oracle            11\n",
       "0       Kuassi   Mensah      Oracle             9\n",
       "6        Susan     Jang      Oracle             9\n",
       "569   Pyounguk      Cho      Oracle             9"
      ]
     },
     "execution_count": 287,
     "metadata": {},
     "output_type": "execute_result"
    }
   ],
   "source": [
    "sp[['firstName','lastName','companyName', 'sessionCount']].sort_values('sessionCount',ascending=False,).head(5)"
   ]
  },
  {
   "cell_type": "markdown",
   "metadata": {},
   "source": [
    "The two colocated events are likely to have a different active speakers. Let's look at the list of most active speakers by event. Here we can make handy use of interactive widget set called *ipywidgets*. These widgets render controls that the consumer of the notebook can use to toggle data filters or other parameters used in selecting, processing and presenting the data.\n",
    "\n",
    "The next function has been decorated with the `@interact` annotation. As a result, each of its input parameters is rendered as an interactive control - by default a dropdown list. The array in the parameter's definition sets the values shown in the dropdown list.\n",
    "\n",
    "Note that any active speakers who present on both OOW and CodeOne can show up in both cases."
   ]
  },
  {
   "cell_type": "code",
   "execution_count": 288,
   "metadata": {},
   "outputs": [
    {
     "data": {
      "application/vnd.jupyter.widget-view+json": {
       "model_id": "10ea22e77f7747549ce351cede1f9453",
       "version_major": 2,
       "version_minor": 0
      },
      "text/plain": [
       "interactive(children=(Dropdown(description='event', options=('oow', 'codeone'), value='oow'), Output()), _dom_…"
      ]
     },
     "metadata": {},
     "output_type": "display_data"
    }
   ],
   "source": [
    "import ipywidgets as widgets\n",
    "from ipywidgets import interact, interact_manual\n",
    "# here is my source for getting started with interactive widgets: https://towardsdatascience.com/interactive-controls-for-jupyter-notebooks-f5c94829aee6\n",
    "\n",
    "@interact\n",
    "def activeSpeakers( event=['oow','codeone']):\n",
    "    return sp[sp[event]== 'Y'][['firstName','lastName','companyName', 'sessionCount']].sort_values('sessionCount',ascending=False,).head(5)\n",
    "    \n",
    "tmp = activeSpeakers('codeone')"
   ]
  },
  {
   "cell_type": "markdown",
   "metadata": {},
   "source": [
    "It turns out that most slots are allocated to speakers employed by Oracle. We can of course check for activity by speakers from other companies as well. "
   ]
  },
  {
   "cell_type": "code",
   "execution_count": 289,
   "metadata": {},
   "outputs": [
    {
     "data": {
      "text/html": [
       "<div>\n",
       "<style scoped>\n",
       "    .dataframe tbody tr th:only-of-type {\n",
       "        vertical-align: middle;\n",
       "    }\n",
       "\n",
       "    .dataframe tbody tr th {\n",
       "        vertical-align: top;\n",
       "    }\n",
       "\n",
       "    .dataframe thead th {\n",
       "        text-align: right;\n",
       "    }\n",
       "</style>\n",
       "<table border=\"1\" class=\"dataframe\">\n",
       "  <thead>\n",
       "    <tr style=\"text-align: right;\">\n",
       "      <th></th>\n",
       "      <th>firstName</th>\n",
       "      <th>lastName</th>\n",
       "      <th>companyName</th>\n",
       "      <th>sessionCount</th>\n",
       "    </tr>\n",
       "  </thead>\n",
       "  <tbody>\n",
       "    <tr>\n",
       "      <th>87</th>\n",
       "      <td>Erik</td>\n",
       "      <td>Benner</td>\n",
       "      <td>Mythics, Inc.</td>\n",
       "      <td>6</td>\n",
       "    </tr>\n",
       "    <tr>\n",
       "      <th>818</th>\n",
       "      <td>Lucas</td>\n",
       "      <td>Jellema</td>\n",
       "      <td>AMIS Services BV</td>\n",
       "      <td>6</td>\n",
       "    </tr>\n",
       "    <tr>\n",
       "      <th>1065</th>\n",
       "      <td>Trisha</td>\n",
       "      <td>Gee</td>\n",
       "      <td>JetBrains</td>\n",
       "      <td>6</td>\n",
       "    </tr>\n",
       "    <tr>\n",
       "      <th>68</th>\n",
       "      <td>Sebastian</td>\n",
       "      <td>Daschner</td>\n",
       "      <td>Sebastian Daschner - IT-Beratung</td>\n",
       "      <td>6</td>\n",
       "    </tr>\n",
       "    <tr>\n",
       "      <th>1237</th>\n",
       "      <td>Steve</td>\n",
       "      <td>Poole</td>\n",
       "      <td>IBM</td>\n",
       "      <td>5</td>\n",
       "    </tr>\n",
       "  </tbody>\n",
       "</table>\n",
       "</div>"
      ],
      "text/plain": [
       "      firstName  lastName                       companyName  sessionCount\n",
       "87         Erik    Benner                     Mythics, Inc.             6\n",
       "818       Lucas   Jellema                  AMIS Services BV             6\n",
       "1065     Trisha       Gee                         JetBrains             6\n",
       "68    Sebastian  Daschner  Sebastian Daschner - IT-Beratung             6\n",
       "1237      Steve     Poole                               IBM             5"
      ]
     },
     "execution_count": 289,
     "metadata": {},
     "output_type": "execute_result"
    }
   ],
   "source": [
    "# find most active speakers who do not work for Oracle\n",
    "# first, filter to retain speakers not working for Oracle, then sort these speakers by session count\n",
    "sp[sp['companyName']!='Oracle'][['firstName','lastName','companyName', 'sessionCount']].sort_values('sessionCount',ascending=False,).head(5)"
   ]
  },
  {
   "cell_type": "markdown",
   "metadata": {},
   "source": [
    "<a name=\"jobtitle\" />"
   ]
  },
  {
   "cell_type": "markdown",
   "metadata": {},
   "source": [
    "## Job Titles for the speakers\n",
    "What are the daily activities of the speakers? What roles do they play in their day jobs? We know the job title for each speaker. We can take a quick look at popular job titles.\n",
    "\n",
    "Note: spaces in job titles, such as 'product manager'. The word cloud geenrator does not handle these spaces well, that's why we simply remove the spaces. "
   ]
  },
  {
   "cell_type": "code",
   "execution_count": 290,
   "metadata": {},
   "outputs": [
    {
     "data": {
      "text/plain": [
       "                                    182\n",
       "CEO                                  51\n",
       "Director                             50\n",
       "-                                    45\n",
       "ConsultingMemberofTechnicalStaff     30\n",
       "VicePresident                        29\n",
       "SeniorPrincipalProductManager        27\n",
       "CTO                                  26\n",
       "PrincipalProductManager              25\n",
       "SeniorDirector                       23\n",
       "SoftwareEngineer                     23\n",
       "SeniorSoftwareEngineer               21\n",
       "ManagingDirector                     20\n",
       "ProductManager                       18\n",
       "SeniorDirector,ProductManagement     18\n",
       "Name: jobTitle, dtype: int64"
      ]
     },
     "execution_count": 290,
     "metadata": {},
     "output_type": "execute_result"
    }
   ],
   "source": [
    "jobTitles = sp['jobTitle'].str.replace(\" \", \"\")\n",
    "jobTitles.value_counts().head(15)"
   ]
  },
  {
   "cell_type": "markdown",
   "metadata": {},
   "source": [
    "The next cell presents a word cloud based on the frequency of job titles. In this case, you can toggle between speakers for OpenWorld and for CodeOne. The difference in job titles is telling."
   ]
  },
  {
   "cell_type": "code",
   "execution_count": 291,
   "metadata": {},
   "outputs": [
    {
     "data": {
      "application/vnd.jupyter.widget-view+json": {
       "model_id": "cb7b5bdcf35f419a99a3c65c792ad066",
       "version_major": 2,
       "version_minor": 0
      },
      "text/plain": [
       "interactive(children=(Dropdown(description='event', options=('oow', 'codeone'), value='oow'), Output()), _dom_…"
      ]
     },
     "metadata": {},
     "output_type": "display_data"
    }
   ],
   "source": [
    "# wordcloud on jobTitle\n",
    "from word_cloud.word_cloud_generator import WordCloud\n",
    "from IPython.core.display import HTML\n",
    "\n",
    "@interact\n",
    "def jobTitleWordCloud(event=['oow','codeone']):\n",
    "    wc=WordCloud(use_tfidf=False)\n",
    " \n",
    "    #don't randomize color, show only top 40; for first 2500 speakers\n",
    "    embed_code=wc.get_embed_code(text=sp[sp[event]=='Y']['jobTitle'].str.replace(\" \", \"\")[:2500],random_color=False,topn=40)\n",
    "    return HTML(embed_code)\n",
    "    \n",
    "tmp = jobTitleWordCloud('oow')    "
   ]
  },
  {
   "cell_type": "markdown",
   "metadata": {},
   "source": [
    "<a name=\"designation\" />"
   ]
  },
  {
   "cell_type": "markdown",
   "metadata": {},
   "source": [
    "## Designations of Speakers\n",
    "Individualspeakers can be special in many ways. One of the ways is their membership of special programs such as the Oracle ACE Director program, the Java Champions program and the relatively new Groundbreaker Ambassador program. Each of these special designations is indicated in each speaker record through a feature. We can quickly find out how many of the speakers have no designation at all - or any specific combination of designations. The next cell produces that insight. Note how there is one speaker who has all four designations!  "
   ]
  },
  {
   "cell_type": "code",
   "execution_count": 292,
   "metadata": {},
   "outputs": [
    {
     "data": {
      "text/html": [
       "<div>\n",
       "<style scoped>\n",
       "    .dataframe tbody tr th:only-of-type {\n",
       "        vertical-align: middle;\n",
       "    }\n",
       "\n",
       "    .dataframe tbody tr th {\n",
       "        vertical-align: top;\n",
       "    }\n",
       "\n",
       "    .dataframe thead th {\n",
       "        text-align: right;\n",
       "    }\n",
       "</style>\n",
       "<table border=\"1\" class=\"dataframe\">\n",
       "  <thead>\n",
       "    <tr style=\"text-align: right;\">\n",
       "      <th></th>\n",
       "      <th>JavaOne Rockstar</th>\n",
       "      <th>Oracle ACE Director</th>\n",
       "      <th>Oracle Java Champion</th>\n",
       "      <th>Groundbreaker Ambassador</th>\n",
       "      <th>counts</th>\n",
       "    </tr>\n",
       "  </thead>\n",
       "  <tbody>\n",
       "    <tr>\n",
       "      <th>0</th>\n",
       "      <td>N</td>\n",
       "      <td>N</td>\n",
       "      <td>N</td>\n",
       "      <td>N</td>\n",
       "      <td>2392</td>\n",
       "    </tr>\n",
       "    <tr>\n",
       "      <th>1</th>\n",
       "      <td>N</td>\n",
       "      <td>N</td>\n",
       "      <td>N</td>\n",
       "      <td>Y</td>\n",
       "      <td>18</td>\n",
       "    </tr>\n",
       "    <tr>\n",
       "      <th>2</th>\n",
       "      <td>N</td>\n",
       "      <td>N</td>\n",
       "      <td>Y</td>\n",
       "      <td>N</td>\n",
       "      <td>28</td>\n",
       "    </tr>\n",
       "    <tr>\n",
       "      <th>3</th>\n",
       "      <td>N</td>\n",
       "      <td>N</td>\n",
       "      <td>Y</td>\n",
       "      <td>Y</td>\n",
       "      <td>11</td>\n",
       "    </tr>\n",
       "    <tr>\n",
       "      <th>4</th>\n",
       "      <td>N</td>\n",
       "      <td>Y</td>\n",
       "      <td>N</td>\n",
       "      <td>N</td>\n",
       "      <td>46</td>\n",
       "    </tr>\n",
       "    <tr>\n",
       "      <th>5</th>\n",
       "      <td>N</td>\n",
       "      <td>Y</td>\n",
       "      <td>N</td>\n",
       "      <td>Y</td>\n",
       "      <td>11</td>\n",
       "    </tr>\n",
       "    <tr>\n",
       "      <th>6</th>\n",
       "      <td>Y</td>\n",
       "      <td>N</td>\n",
       "      <td>N</td>\n",
       "      <td>N</td>\n",
       "      <td>33</td>\n",
       "    </tr>\n",
       "    <tr>\n",
       "      <th>7</th>\n",
       "      <td>Y</td>\n",
       "      <td>N</td>\n",
       "      <td>N</td>\n",
       "      <td>Y</td>\n",
       "      <td>3</td>\n",
       "    </tr>\n",
       "    <tr>\n",
       "      <th>8</th>\n",
       "      <td>Y</td>\n",
       "      <td>N</td>\n",
       "      <td>Y</td>\n",
       "      <td>N</td>\n",
       "      <td>22</td>\n",
       "    </tr>\n",
       "    <tr>\n",
       "      <th>9</th>\n",
       "      <td>Y</td>\n",
       "      <td>N</td>\n",
       "      <td>Y</td>\n",
       "      <td>Y</td>\n",
       "      <td>16</td>\n",
       "    </tr>\n",
       "    <tr>\n",
       "      <th>10</th>\n",
       "      <td>Y</td>\n",
       "      <td>Y</td>\n",
       "      <td>N</td>\n",
       "      <td>Y</td>\n",
       "      <td>1</td>\n",
       "    </tr>\n",
       "    <tr>\n",
       "      <th>11</th>\n",
       "      <td>Y</td>\n",
       "      <td>Y</td>\n",
       "      <td>Y</td>\n",
       "      <td>Y</td>\n",
       "      <td>1</td>\n",
       "    </tr>\n",
       "  </tbody>\n",
       "</table>\n",
       "</div>"
      ],
      "text/plain": [
       "   JavaOne Rockstar Oracle ACE Director Oracle Java Champion  \\\n",
       "0                 N                   N                    N   \n",
       "1                 N                   N                    N   \n",
       "2                 N                   N                    Y   \n",
       "3                 N                   N                    Y   \n",
       "4                 N                   Y                    N   \n",
       "5                 N                   Y                    N   \n",
       "6                 Y                   N                    N   \n",
       "7                 Y                   N                    N   \n",
       "8                 Y                   N                    Y   \n",
       "9                 Y                   N                    Y   \n",
       "10                Y                   Y                    N   \n",
       "11                Y                   Y                    Y   \n",
       "\n",
       "   Groundbreaker Ambassador  counts  \n",
       "0                         N    2392  \n",
       "1                         Y      18  \n",
       "2                         N      28  \n",
       "3                         Y      11  \n",
       "4                         N      46  \n",
       "5                         Y      11  \n",
       "6                         N      33  \n",
       "7                         Y       3  \n",
       "8                         N      22  \n",
       "9                         Y      16  \n",
       "10                        Y       1  \n",
       "11                        Y       1  "
      ]
     },
     "execution_count": 292,
     "metadata": {},
     "output_type": "execute_result"
    }
   ],
   "source": [
    "sp.groupby(['JavaOne Rockstar', 'Oracle ACE Director', 'Oracle Java Champion', 'Groundbreaker Ambassador']).size().reset_index(name='counts')"
   ]
  },
  {
   "cell_type": "markdown",
   "metadata": {},
   "source": [
    "Sometimes the question is asked whether you need to be an Oracle ACE Director in order to become a Groundbreaker Ambassador or whether being a Java Champion is a prerequisite. We can check with a special types of Venn Diagram how the speakers with a special designation relate to each of the programs. \n",
    "\n",
    "Spoiler: It turns out that most Groundbreaker Ambassador have a background as Java Champion and relatively few as Oracle ACE Directory."
   ]
  },
  {
   "cell_type": "code",
   "execution_count": 293,
   "metadata": {},
   "outputs": [
    {
     "data": {
      "text/html": [
       "<div>\n",
       "<style scoped>\n",
       "    .dataframe tbody tr th:only-of-type {\n",
       "        vertical-align: middle;\n",
       "    }\n",
       "\n",
       "    .dataframe tbody tr th {\n",
       "        vertical-align: top;\n",
       "    }\n",
       "\n",
       "    .dataframe thead th {\n",
       "        text-align: right;\n",
       "    }\n",
       "</style>\n",
       "<table border=\"1\" class=\"dataframe\">\n",
       "  <thead>\n",
       "    <tr style=\"text-align: right;\">\n",
       "      <th></th>\n",
       "      <th>Oracle ACE Director</th>\n",
       "      <th>Oracle Java Champion</th>\n",
       "      <th>Groundbreaker Ambassador</th>\n",
       "      <th>counts</th>\n",
       "    </tr>\n",
       "  </thead>\n",
       "  <tbody>\n",
       "    <tr>\n",
       "      <th>0</th>\n",
       "      <td>N</td>\n",
       "      <td>N</td>\n",
       "      <td>N</td>\n",
       "      <td>2425</td>\n",
       "    </tr>\n",
       "    <tr>\n",
       "      <th>1</th>\n",
       "      <td>N</td>\n",
       "      <td>N</td>\n",
       "      <td>Y</td>\n",
       "      <td>21</td>\n",
       "    </tr>\n",
       "    <tr>\n",
       "      <th>2</th>\n",
       "      <td>N</td>\n",
       "      <td>Y</td>\n",
       "      <td>N</td>\n",
       "      <td>50</td>\n",
       "    </tr>\n",
       "    <tr>\n",
       "      <th>3</th>\n",
       "      <td>N</td>\n",
       "      <td>Y</td>\n",
       "      <td>Y</td>\n",
       "      <td>27</td>\n",
       "    </tr>\n",
       "    <tr>\n",
       "      <th>4</th>\n",
       "      <td>Y</td>\n",
       "      <td>N</td>\n",
       "      <td>N</td>\n",
       "      <td>46</td>\n",
       "    </tr>\n",
       "    <tr>\n",
       "      <th>5</th>\n",
       "      <td>Y</td>\n",
       "      <td>N</td>\n",
       "      <td>Y</td>\n",
       "      <td>12</td>\n",
       "    </tr>\n",
       "    <tr>\n",
       "      <th>6</th>\n",
       "      <td>Y</td>\n",
       "      <td>Y</td>\n",
       "      <td>Y</td>\n",
       "      <td>1</td>\n",
       "    </tr>\n",
       "  </tbody>\n",
       "</table>\n",
       "</div>"
      ],
      "text/plain": [
       "  Oracle ACE Director Oracle Java Champion Groundbreaker Ambassador  counts\n",
       "0                   N                    N                        N    2425\n",
       "1                   N                    N                        Y      21\n",
       "2                   N                    Y                        N      50\n",
       "3                   N                    Y                        Y      27\n",
       "4                   Y                    N                        N      46\n",
       "5                   Y                    N                        Y      12\n",
       "6                   Y                    Y                        Y       1"
      ]
     },
     "execution_count": 293,
     "metadata": {},
     "output_type": "execute_result"
    }
   ],
   "source": [
    "summ = sp.groupby([ 'Oracle ACE Director', 'Oracle Java Champion', 'Groundbreaker Ambassador']).size().reset_index(name='counts')\n",
    "summ"
   ]
  },
  {
   "cell_type": "code",
   "execution_count": 294,
   "metadata": {},
   "outputs": [
    {
     "data": {
      "image/png": "[encoded data removed]",
      "text/plain": [
       "<Figure size 432x288 with 1 Axes>"
      ]
     },
     "metadata": {},
     "output_type": "display_data"
    }
   ],
   "source": [
    "# Import the library\n",
    "import matplotlib.pyplot as plt\n",
    "from matplotlib_venn import venn3\n",
    "# the next line is for making the output from matplotlib appear inline in the notebook\n",
    "%matplotlib inline\n",
    " \n",
    "v=venn3(subsets = ( summ.loc[4]['counts'] # YNN\n",
    "                  , summ.loc[2]['counts'] # NYN\n",
    "                  , 0 # YYN\n",
    "                  , summ.loc[1]['counts'] # NNY\n",
    "                  , summ.loc[5]['counts'] # YNY\n",
    "                  , summ.loc[3]['counts'] # NYY\n",
    "                  , summ.loc[6]['counts'] # YYY\n",
    "                  )\n",
    "        , set_labels = ('Oracle ACE Director','Oracle Java Champion', 'Groundbreaker Ambassador' ))\n",
    "plt.suptitle(\"Numbers of speakers per designation\")\n",
    "plt.show()"
   ]
  },
  {
   "cell_type": "markdown",
   "metadata": {},
   "source": [
    "<a name=\"company\" />"
   ]
  },
  {
   "cell_type": "markdown",
   "metadata": {},
   "source": [
    "## Companies for which Speakers are working\n",
    "Speakers indicate the company they work for. So we can explore a little which companies are represented by speakers at these conferences. "
   ]
  },
  {
   "cell_type": "markdown",
   "metadata": {},
   "source": [
    "### Number of speakers per company\n",
    "Quick evaluation of the numbers of speakers per company. Note: this is not the same as the number of sessions; that can be derived by summing the session_count per speaker"
   ]
  },
  {
   "cell_type": "code",
   "execution_count": 295,
   "metadata": {},
   "outputs": [
    {
     "data": {
      "text/plain": [
       "ORACLE                     1179\n",
       "DELOITTE CONSULTING LLP      32\n",
       "IBM                          22\n",
       "RED HAT                      20\n",
       "ACCENTURE                    14\n",
       "INFOSYS LIMITED              11\n",
       "WELLS FARGO                  10\n",
       "KPMG LLP                     10\n",
       "PWC                           8\n",
       "GE                            8\n",
       "QUEST ORACLE COMMUNITY        8\n",
       "ORACLE                        6\n",
       "MICROSOFT                     6\n",
       "TOMITRIBE                     6\n",
       "COGNIZANT                     6\n",
       "Name: companyName, dtype: int64"
      ]
     },
     "execution_count": 295,
     "metadata": {},
     "output_type": "execute_result"
    }
   ],
   "source": [
    "#other companies:\n",
    "# details on value_counts: https://pandas.pydata.org/pandas-docs/stable/generated/pandas.Series.value_counts.html \n",
    "sp.companyName.str.upper().value_counts().head(15)"
   ]
  },
  {
   "cell_type": "markdown",
   "metadata": {},
   "source": [
    "When you check the website for the Oracle OpenWorld Conference, it is easy to find out which companies are sponsors: \n",
    "* sponsors for Oracle OpenWorld: *Intel, Cognizant, Deloitte, Accenture, DXC.Technology, PWC, Tata Consultancy Services, Wipro, Hitachi, KPMG, InfoSys*\n",
    "* CodeOne sponsors: *IBM, RedHat, PluralSight, Cloud Native Compute Foundation*\n",
    "\n",
    "It is not farfetched to assume that as part of a sponsorship, companies get a number of slots at the conference. In the next list of active companies, we filter out the sponsors as well as Oracle itself. The resulting set could be regarded as the list of companies that have acquired slots on the true merit of their speakers. We see here the companies and the number of employees who speak at one of the conferences. "
   ]
  },
  {
   "cell_type": "code",
   "execution_count": 296,
   "metadata": {},
   "outputs": [
    {
     "data": {
      "text/plain": [
       "Wells Fargo                            9\n",
       "GE                                     8\n",
       "Quest Oracle Community                 8\n",
       "Tomitribe                              6\n",
       "Oracle                                 6\n",
       "Grant Thornton LLP                     6\n",
       "Microsoft                              5\n",
       "Western Digital                        5\n",
       "Google                                 5\n",
       "Capgemini UK Plc                       4\n",
       "Edgewater Technology - Ranzal, Inc.    4\n",
       "CSS International, Inc                 4\n",
       "Viscosity North America                4\n",
       "Pythian                                4\n",
       "Gap Inc.                               4\n",
       "Name: companyName, dtype: int64"
      ]
     },
     "execution_count": 296,
     "metadata": {},
     "output_type": "execute_result"
    }
   ],
   "source": [
    "#other companies besides the sponsors:\n",
    "sponsors = ['ORACLE', 'RED HAT','PWC', 'ACCENTURE','COGNIZANT','IBM','TATA CONSULTANCY SERVICES LTD', 'DELOITTE CONSULTING LLP', 'KPMG LLP' ,'INFOSYS LIMITED' ]\n",
    "\n",
    "sp[~sp['companyName'].str.upper().isin(sponsors)]['companyName'].value_counts().head(15)"
   ]
  },
  {
   "cell_type": "markdown",
   "metadata": {},
   "source": [
    "Show the sum of the numbers of sessions for the speakers per company - and leave out the sponsors.\n",
    "\n",
    "Note: this list can contain double counts - when multiple speakers for a company are active in the same session, that session is counted multiple times."
   ]
  },
  {
   "cell_type": "code",
   "execution_count": 297,
   "metadata": {},
   "outputs": [
    {
     "data": {
      "text/html": [
       "<div>\n",
       "<style scoped>\n",
       "    .dataframe tbody tr th:only-of-type {\n",
       "        vertical-align: middle;\n",
       "    }\n",
       "\n",
       "    .dataframe tbody tr th {\n",
       "        vertical-align: top;\n",
       "    }\n",
       "\n",
       "    .dataframe thead th {\n",
       "        text-align: right;\n",
       "    }\n",
       "</style>\n",
       "<table border=\"1\" class=\"dataframe\">\n",
       "  <thead>\n",
       "    <tr style=\"text-align: right;\">\n",
       "      <th></th>\n",
       "      <th>companyName</th>\n",
       "      <th>counts</th>\n",
       "    </tr>\n",
       "  </thead>\n",
       "  <tbody>\n",
       "    <tr>\n",
       "      <th>876</th>\n",
       "      <td>Tomitribe</td>\n",
       "      <td>15</td>\n",
       "    </tr>\n",
       "    <tr>\n",
       "      <th>362</th>\n",
       "      <td>GE</td>\n",
       "      <td>11</td>\n",
       "    </tr>\n",
       "    <tr>\n",
       "      <th>493</th>\n",
       "      <td>JetBrains</td>\n",
       "      <td>9</td>\n",
       "    </tr>\n",
       "    <tr>\n",
       "      <th>952</th>\n",
       "      <td>Wells Fargo</td>\n",
       "      <td>9</td>\n",
       "    </tr>\n",
       "    <tr>\n",
       "      <th>654</th>\n",
       "      <td>Oracle</td>\n",
       "      <td>9</td>\n",
       "    </tr>\n",
       "    <tr>\n",
       "      <th>711</th>\n",
       "      <td>Quest Oracle Community</td>\n",
       "      <td>9</td>\n",
       "    </tr>\n",
       "    <tr>\n",
       "      <th>598</th>\n",
       "      <td>Mythics, Inc.</td>\n",
       "      <td>8</td>\n",
       "    </tr>\n",
       "    <tr>\n",
       "      <th>172</th>\n",
       "      <td>Capgemini UK Plc</td>\n",
       "      <td>8</td>\n",
       "    </tr>\n",
       "    <tr>\n",
       "      <th>886</th>\n",
       "      <td>Trivadis AG</td>\n",
       "      <td>8</td>\n",
       "    </tr>\n",
       "    <tr>\n",
       "      <th>936</th>\n",
       "      <td>Viscosity North America</td>\n",
       "      <td>8</td>\n",
       "    </tr>\n",
       "  </tbody>\n",
       "</table>\n",
       "</div>"
      ],
      "text/plain": [
       "                 companyName  counts\n",
       "876                Tomitribe      15\n",
       "362                       GE      11\n",
       "493                JetBrains       9\n",
       "952              Wells Fargo       9\n",
       "654                  Oracle        9\n",
       "711   Quest Oracle Community       9\n",
       "598            Mythics, Inc.       8\n",
       "172         Capgemini UK Plc       8\n",
       "886              Trivadis AG       8\n",
       "936  Viscosity North America       8"
      ]
     },
     "execution_count": 297,
     "metadata": {},
     "output_type": "execute_result"
    }
   ],
   "source": [
    "#other companies besides the sponsors:\n",
    "sponsors = ['ORACLE', 'RED HAT','PWC', 'ACCENTURE','COGNIZANT','IBM','TATA CONSULTANCY SERVICES LTD', 'DELOITTE CONSULTING LLP', 'KPMG LLP' ,'INFOSYS LIMITED' ]\n",
    "\n",
    "sp[~sp['companyName'].str.upper().isin(sponsors)].groupby(['companyName'])['sessionCount'].agg('sum').reset_index(name='counts').sort_values('counts',ascending=False,).head(10)"
   ]
  },
  {
   "cell_type": "markdown",
   "metadata": {},
   "source": [
    "We have seen that the number of speakers that work for Oracle is substantial. Let's look at how substantial that number really is - by checking the percentages of Oracle employed speakers for both conferences. "
   ]
  },
  {
   "cell_type": "code",
   "execution_count": 298,
   "metadata": {},
   "outputs": [
    {
     "data": {
      "text/html": [
       "<div>\n",
       "<style scoped>\n",
       "    .dataframe tbody tr th:only-of-type {\n",
       "        vertical-align: middle;\n",
       "    }\n",
       "\n",
       "    .dataframe tbody tr th {\n",
       "        vertical-align: top;\n",
       "    }\n",
       "\n",
       "    .dataframe thead th {\n",
       "        text-align: right;\n",
       "    }\n",
       "</style>\n",
       "<table border=\"1\" class=\"dataframe\">\n",
       "  <thead>\n",
       "    <tr style=\"text-align: right;\">\n",
       "      <th>oracle_employee</th>\n",
       "      <th>N</th>\n",
       "      <th>Y</th>\n",
       "    </tr>\n",
       "    <tr>\n",
       "      <th>conference</th>\n",
       "      <th></th>\n",
       "      <th></th>\n",
       "    </tr>\n",
       "  </thead>\n",
       "  <tbody>\n",
       "    <tr>\n",
       "      <th>both</th>\n",
       "      <td>31.0</td>\n",
       "      <td>69.0</td>\n",
       "    </tr>\n",
       "    <tr>\n",
       "      <th>codeone</th>\n",
       "      <td>78.0</td>\n",
       "      <td>22.0</td>\n",
       "    </tr>\n",
       "    <tr>\n",
       "      <th>oow</th>\n",
       "      <td>50.0</td>\n",
       "      <td>50.0</td>\n",
       "    </tr>\n",
       "  </tbody>\n",
       "</table>\n",
       "</div>"
      ],
      "text/plain": [
       "oracle_employee     N     Y\n",
       "conference                 \n",
       "both             31.0  69.0\n",
       "codeone          78.0  22.0\n",
       "oow              50.0  50.0"
      ]
     },
     "execution_count": 298,
     "metadata": {},
     "output_type": "execute_result"
    }
   ],
   "source": [
    "def conference_for_speaker(speaker):\n",
    "    return 'both' if speaker['oow']=='Y' and speaker['codeone']=='Y' else 'oow' if speaker['oow']=='Y' else 'codeone' \n",
    "                \n",
    "# derive a single conference feature for all speakers\n",
    "sp['conference'] = sp.apply(conference_for_speaker, axis=1)\n",
    "# create a crosstab for conference and gender\n",
    "pd.crosstab(sp['conference'], sp['oracle_employee']).apply(lambda r: 100*r/r.sum(), axis=1).round(0)"
   ]
  },
  {
   "cell_type": "markdown",
   "metadata": {},
   "source": [
    "Time for a visualization. In a stacked barchart we will compare the numbers of speakers associated with each conference - and we show the numbers of speakers working for Oracle. "
   ]
  },
  {
   "cell_type": "code",
   "execution_count": 299,
   "metadata": {},
   "outputs": [
    {
     "data": {
      "text/html": [
       "<script type=\"text/javascript\">window.PlotlyConfig = {MathJaxConfig: 'local'};</script><script type=\"text/javascript\">if (window.MathJax) {MathJax.Hub.Config({SVG: {font: \"STIX-Web\"}});}</script><script>requirejs.config({paths: { 'plotly': ['https://cdn.plot.ly/plotly-latest.min']},});if(!window._Plotly) {require(['plotly'],function(plotly) {window._Plotly=plotly;});}</script>"
      ],
      "text/vnd.plotly.v1+html": [
       "<script type=\"text/javascript\">window.PlotlyConfig = {MathJaxConfig: 'local'};</script><script type=\"text/javascript\">if (window.MathJax) {MathJax.Hub.Config({SVG: {font: \"STIX-Web\"}});}</script><script>requirejs.config({paths: { 'plotly': ['https://cdn.plot.ly/plotly-latest.min']},});if(!window._Plotly) {require(['plotly'],function(plotly) {window._Plotly=plotly;});}</script>"
      ]
     },
     "metadata": {},
     "output_type": "display_data"
    },
    {
     "data": {
      "application/vnd.plotly.v1+json": {
       "config": {
        "linkText": "Export to plot.ly",
        "plotlyServerURL": "https://plot.ly",
        "showLink": false
       },
       "data": [
        {
         "name": "Non Oracle Staff",
         "type": "bar",
         "uid": "89260329-74b7-40f0-95e1-d395d15991cf",
         "x": [
          "CodeOne",
          "Oracle OpenWorld"
         ],
         "y": [
          298,
          1124
         ]
        },
        {
         "name": "Oracle Employees",
         "type": "bar",
         "uid": "f2665416-3d7f-4395-a6ee-e40d3fbe0e71",
         "x": [
          "CodeOne",
          "Oracle OpenWorld"
         ],
         "y": [
          85,
          1110
         ]
        }
       ],
       "layout": {
        "barmode": "stack",
        "title": {
         "text": "Number of Speakers at Oracle OpenWorld and CodeOne - both Oracle employees and non-Oracle staff"
        }
       }
      },
      "text/html": [
       "<div id=\"90b87d85-fba5-4ae9-bf00-461ab177a7a7\" style=\"height: 525px; width: 100%;\" class=\"plotly-graph-div\"></div><script type=\"text/javascript\">require([\"plotly\"], function(Plotly) { window.PLOTLYENV=window.PLOTLYENV || {};window.PLOTLYENV.BASE_URL=\"https://plot.ly\";Plotly.newPlot(\"90b87d85-fba5-4ae9-bf00-461ab177a7a7\", [{\"name\": \"Non Oracle Staff\", \"x\": [\"CodeOne\", \"Oracle OpenWorld\"], \"y\": [298, 1124], \"type\": \"bar\", \"uid\": \"89260329-74b7-40f0-95e1-d395d15991cf\"}, {\"name\": \"Oracle Employees\", \"x\": [\"CodeOne\", \"Oracle OpenWorld\"], \"y\": [85, 1110], \"type\": \"bar\", \"uid\": \"f2665416-3d7f-4395-a6ee-e40d3fbe0e71\"}], {\"barmode\": \"stack\", \"title\": {\"text\": \"Number of Speakers at Oracle OpenWorld and CodeOne - both Oracle employees and non-Oracle staff\"}}, {\"showLink\": false, \"linkText\": \"Export to plot.ly\", \"plotlyServerURL\": \"https://plot.ly\"})});</script><script type=\"text/javascript\">window.addEventListener(\"resize\", function(){window._Plotly.Plots.resize(document.getElementById(\"90b87d85-fba5-4ae9-bf00-461ab177a7a7\"));});</script>"
      ],
      "text/vnd.plotly.v1+html": [
       "<div id=\"90b87d85-fba5-4ae9-bf00-461ab177a7a7\" style=\"height: 525px; width: 100%;\" class=\"plotly-graph-div\"></div><script type=\"text/javascript\">require([\"plotly\"], function(Plotly) { window.PLOTLYENV=window.PLOTLYENV || {};window.PLOTLYENV.BASE_URL=\"https://plot.ly\";Plotly.newPlot(\"90b87d85-fba5-4ae9-bf00-461ab177a7a7\", [{\"name\": \"Non Oracle Staff\", \"x\": [\"CodeOne\", \"Oracle OpenWorld\"], \"y\": [298, 1124], \"type\": \"bar\", \"uid\": \"89260329-74b7-40f0-95e1-d395d15991cf\"}, {\"name\": \"Oracle Employees\", \"x\": [\"CodeOne\", \"Oracle OpenWorld\"], \"y\": [85, 1110], \"type\": \"bar\", \"uid\": \"f2665416-3d7f-4395-a6ee-e40d3fbe0e71\"}], {\"barmode\": \"stack\", \"title\": {\"text\": \"Number of Speakers at Oracle OpenWorld and CodeOne - both Oracle employees and non-Oracle staff\"}}, {\"showLink\": false, \"linkText\": \"Export to plot.ly\", \"plotlyServerURL\": \"https://plot.ly\"})});</script><script type=\"text/javascript\">window.addEventListener(\"resize\", function(){window._Plotly.Plots.resize(document.getElementById(\"90b87d85-fba5-4ae9-bf00-461ab177a7a7\"));});</script>"
      ]
     },
     "metadata": {},
     "output_type": "display_data"
    }
   ],
   "source": [
    "#stackchart\n",
    "import plotly\n",
    "import plotly.plotly as py\n",
    "import plotly.graph_objs as go\n",
    "\n",
    "#this line makes plotly work in offline mode (i.e. not connected to PlotLy cloud) and inside running Jupyter Notebook\n",
    "plotly.offline.init_notebook_mode(connected=True)\n",
    "\n",
    "summ = sp.groupby(['oow', 'codeone','oracle_employee']).size().reset_index(name='counts')\n",
    "# if you would like to see the contents of variable summ, the uncomment the next line\n",
    "# print(summ)\n",
    "\n",
    "nonOracleStack = go.Bar(\n",
    "    x=['CodeOne', 'Oracle OpenWorld'],\n",
    "    y=[summ.loc[0]['counts'], summ.loc[2]['counts']+summ.loc[5]['counts']],\n",
    "    name='Non Oracle Staff'\n",
    ")\n",
    "OracleStack = go.Bar(\n",
    "    x=['CodeOne', 'Oracle OpenWorld'],\n",
    "    y=[summ.loc[1]['counts'], summ.loc[3]['counts']+summ.loc[5]['counts']],\n",
    "    name='Oracle Employees'\n",
    ")\n",
    "\n",
    "data = [nonOracleStack, OracleStack]\n",
    "layout = go.Layout(\n",
    "    barmode='stack',\n",
    "    title='Number of Speakers at Oracle OpenWorld and CodeOne - both Oracle employees and non-Oracle staff'\n",
    ")\n",
    "\n",
    "fig = go.Figure(data=data, layout=layout)\n",
    "plotly.offline.iplot(fig, filename='stacked-bar')"
   ]
  },
  {
   "cell_type": "markdown",
   "metadata": {},
   "source": [
    "<a name=\"names\" />"
   ]
  },
  {
   "cell_type": "markdown",
   "metadata": {},
   "source": [
    "## Popular First Names for Speakers\n",
    "Let us investigate the hugely important question of what are the top 10 first names for the speakers."
   ]
  },
  {
   "cell_type": "code",
   "execution_count": 300,
   "metadata": {},
   "outputs": [
    {
     "data": {
      "text/plain": [
       "David      43\n",
       "Michael    39\n",
       "John       39\n",
       "Chris      28\n",
       "Mark       25\n",
       "Scott      23\n",
       "Mike       23\n",
       "Brian      17\n",
       "Alex       17\n",
       "Paul       16\n",
       "Name: firstName, dtype: int64"
      ]
     },
     "execution_count": 300,
     "metadata": {},
     "output_type": "execute_result"
    }
   ],
   "source": [
    "# details on value_counts: https://pandas.pydata.org/pandas-docs/stable/generated/pandas.Series.value_counts.html \n",
    "sp['firstName'].value_counts().head(10)"
   ]
  },
  {
   "cell_type": "code",
   "execution_count": 301,
   "metadata": {},
   "outputs": [
    {
     "data": {
      "application/vnd.jupyter.widget-view+json": {
       "model_id": "a467d96312884169aa8dc7a524f5a20c",
       "version_major": 2,
       "version_minor": 0
      },
      "text/plain": [
       "interactive(children=(Dropdown(description='event', options=('oow', 'codeone'), value='oow'), Output()), _dom_…"
      ]
     },
     "metadata": {},
     "output_type": "display_data"
    }
   ],
   "source": [
    "#check for popularity of first names of speakers per event\n",
    "@interact\n",
    "def first_names(event=['oow','codeone']):\n",
    "    return sp[sp[event]=='Y'].groupby([ 'firstName']).size().reset_index(name='counts').sort_values('counts',ascending=False,).head(10)\n",
    "\n",
    "tmp = first_names('oow') "
   ]
  },
  {
   "cell_type": "code",
   "execution_count": 302,
   "metadata": {},
   "outputs": [
    {
     "data": {
      "text/html": [
       "<div align='center' style='width:100%'><div align='center' style='text-align:justify; border-radius: 25px;background: #fff7f7;overflow: auto; width:500px !important; padding:20px; '; text-align: center; word-wrap: break-word;> <span style='color:#b82c2c;font-size:3.4999999999999987em;white-space: normal;font-family:verdana;display: inline-block;line-height:30px'>john&nbsp;</span> <span style='color:#FF5733;font-size:1.25em;white-space: normal;font-family:verdana;display: inline-block;line-height:30px'>rick&nbsp;</span> <span style='color:#FF5733;font-size:1.25em;white-space: normal;font-family:verdana;display: inline-block;line-height:30px'>bill&nbsp;</span> <span style='color:#5F6A6A;font-size:1.6999999999999997em;white-space: normal;font-family:verdana;display: inline-block;line-height:30px'>paul&nbsp;</span> <span style='color:#2ECC71;font-size:1.5499999999999998em;white-space: normal;font-family:verdana;display: inline-block;line-height:30px'>robert&nbsp;</span> <span style='color:#223AE6;font-size:1.4em;white-space: normal;font-family:verdana;display: inline-block;line-height:30px'>jason&nbsp;</span> <span style='color:#ACB02E;font-size:2.1499999999999995em;white-space: normal;font-family:verdana;display: inline-block;line-height:30px'>mike&nbsp;</span> <span style='color:#04B404;font-size:2.599999999999999em;white-space: normal;font-family:verdana;display: inline-block;line-height:30px'>chris&nbsp;</span> <span style='color:#223AE6;font-size:1.4em;white-space: normal;font-family:verdana;display: inline-block;line-height:30px'>joe&nbsp;</span> <span style='color:#2ECC71;font-size:1.5499999999999998em;white-space: normal;font-family:verdana;display: inline-block;line-height:30px'>steve&nbsp;</span> <span style='color:#3498DB;font-size:1.1em;white-space: normal;font-family:verdana;display: inline-block;line-height:30px'>richard&nbsp;</span> <span style='color:#2ECC71;font-size:1.5499999999999998em;white-space: normal;font-family:verdana;display: inline-block;line-height:30px'>simon&nbsp;</span> <span style='color:#2ECC71;font-size:1.5499999999999998em;white-space: normal;font-family:verdana;display: inline-block;line-height:30px'>jeff&nbsp;</span> <span style='color:#FF5733;font-size:1.25em;white-space: normal;font-family:verdana;display: inline-block;line-height:30px'>patrick&nbsp;</span> <span style='color:#3498DB;font-size:1.1em;white-space: normal;font-family:verdana;display: inline-block;line-height:30px'>keith&nbsp;</span> <span style='color:#FF5733;font-size:1.25em;white-space: normal;font-family:verdana;display: inline-block;line-height:30px'>stephen&nbsp;</span> <span style='color:#FF5733;font-size:1.25em;white-space: normal;font-family:verdana;display: inline-block;line-height:30px'>bob&nbsp;</span> <span style='color:#FF5733;font-size:1.25em;white-space: normal;font-family:verdana;display: inline-block;line-height:30px'>ravi&nbsp;</span> <span style='color:#223AE6;font-size:1.4em;white-space: normal;font-family:verdana;display: inline-block;line-height:30px'>christopher&nbsp;</span> <span style='color:#FF5733;font-size:1.25em;white-space: normal;font-family:verdana;display: inline-block;line-height:30px'>dan&nbsp;</span> <span style='color:#223AE6;font-size:1.4em;white-space: normal;font-family:verdana;display: inline-block;line-height:30px'>eric&nbsp;</span> <span style='color:#3498DB;font-size:1.1em;white-space: normal;font-family:verdana;display: inline-block;line-height:30px'>jonathan&nbsp;</span> <span style='color:#5F6A6A;font-size:1.6999999999999997em;white-space: normal;font-family:verdana;display: inline-block;line-height:30px'>brian&nbsp;</span> <span style='color:#3498DB;font-size:1.1em;white-space: normal;font-family:verdana;display: inline-block;line-height:30px'>tom&nbsp;</span> <span style='color:#b82c2c;font-size:3.4999999999999987em;white-space: normal;font-family:verdana;display: inline-block;line-height:30px'>michael&nbsp;</span> <span style='color:#B18904;font-size:2.2999999999999994em;white-space: normal;font-family:verdana;display: inline-block;line-height:30px'>scott&nbsp;</span> <span style='color:#3498DB;font-size:1.1em;white-space: normal;font-family:verdana;display: inline-block;line-height:30px'>jon&nbsp;</span> <span style='color:#b82c2c;font-size:3.4999999999999987em;white-space: normal;font-family:verdana;display: inline-block;line-height:30px'>david&nbsp;</span> <span style='color:#3498DB;font-size:1.1em;white-space: normal;font-family:verdana;display: inline-block;line-height:30px'>susan&nbsp;</span> <span style='color:#5F6A6A;font-size:1.6999999999999997em;white-space: normal;font-family:verdana;display: inline-block;line-height:30px'>kevin&nbsp;</span> <span style='color:#5F6A6A;font-size:1.6999999999999997em;white-space: normal;font-family:verdana;display: inline-block;line-height:30px'>alex&nbsp;</span> <span style='color:#2ECC71;font-size:1.5499999999999998em;white-space: normal;font-family:verdana;display: inline-block;line-height:30px'>daniel&nbsp;</span> <span style='color:#FF5733;font-size:1.25em;white-space: normal;font-family:verdana;display: inline-block;line-height:30px'>martin&nbsp;</span> <span style='color:#5F6A6A;font-size:1.6999999999999997em;white-space: normal;font-family:verdana;display: inline-block;line-height:30px'>tim&nbsp;</span> <span style='color:#223AE6;font-size:1.4em;white-space: normal;font-family:verdana;display: inline-block;line-height:30px'>marc&nbsp;</span> <span style='color:#223AE6;font-size:1.4em;white-space: normal;font-family:verdana;display: inline-block;line-height:30px'>matt&nbsp;</span> <span style='color:#3498DB;font-size:1.1em;white-space: normal;font-family:verdana;display: inline-block;line-height:30px'>peter&nbsp;</span> <span style='color:#B18904;font-size:2.2999999999999994em;white-space: normal;font-family:verdana;display: inline-block;line-height:30px'>mark&nbsp;</span> <span style='color:#3498DB;font-size:1.1em;white-space: normal;font-family:verdana;display: inline-block;line-height:30px'>matthew&nbsp;</span> <span style='color:#3498DB;font-size:1.1em;white-space: normal;font-family:verdana;display: inline-block;line-height:30px'>manish&nbsp;</span></div></div>"
      ],
      "text/plain": [
       "<IPython.core.display.HTML object>"
      ]
     },
     "execution_count": 302,
     "metadata": {},
     "output_type": "execute_result"
    }
   ],
   "source": [
    "# create a word_cloud \n",
    "# leveraging this article: http://kavita-ganesan.com/word-cloud-for-data-scientists/#.XD2JQVxKhPY\n",
    "# and this github repo: https://github.com/kavgan/word_cloud \n",
    "from word_cloud.word_cloud_generator import WordCloud\n",
    "from IPython.core.display import HTML\n",
    "\n",
    "wc=WordCloud(use_tfidf=False)\n",
    " \n",
    "#don't randomize color, show only top 40\n",
    "embed_code=wc.get_embed_code(text=sp['firstName'],random_color=False,topn=40)\n",
    "HTML(embed_code)"
   ]
  },
  {
   "cell_type": "markdown",
   "metadata": {},
   "source": [
    "<a name=\"gender\"/>"
   ]
  },
  {
   "cell_type": "markdown",
   "metadata": {},
   "source": [
    "## Women in Tech - Gender of Speakers\n",
    "\n",
    "It is interesting to know if women appear as speakers at the two events - given our strive for *more women in tech*. \n",
    "\n",
    "We may be able to stimulate the participation of women if we better understand what type of event attracts female speakers and which tracks perhaps have a higher than average percentage of female speakers.\n",
    "\n",
    "However: our data set does not contain ant straightforward gender information. Gender is not a feature of our speaker records. \n",
    "\n",
    "Does our exploration end before it event started - for lack of data? Or can we be creative? Perhaps we can guess the gender from the first name feature that we do have for all speakers. Additionally, we have a biography for each speaker and in these texts speakers frequently describe themselves in the third person - using references to *he* or *she*, *his* and *him* or *her*. So we have at least two clues as to the gender of speakers. Not enough to base any important analysis or individual approach on, but it will do for this high over analysis.\n",
    "\n",
    "### Deriving Gender from First Name\n",
    "\n",
    "We can use an API or library for guessing the gender of the speaker based on the first name:\n",
    "* https://genderize.io/ (1000 calls per day are free)\n",
    "* https://gender-api.com/ - paid for\n",
    "* https://pypi.org/project/gender-guesser/ - local libray\n",
    "* see article for broader overview of this challenge: https://gender-gap-in-science.org/2018/07/16/telling-the-gender-from-a-name/ \n",
    "\n",
    "\n",
    "Note: in our case, we are interested in the big picture. Guessing the wrong gender in a few percent of the cases is acceptable. So let's go with the easy to use and fully free gender-guesser library.\n"
   ]
  },
  {
   "cell_type": "code",
   "execution_count": 303,
   "metadata": {},
   "outputs": [
    {
     "data": {
      "application/vnd.jupyter.widget-view+json": {
       "model_id": "60f22a5eaf7b4e2a92ad9d7e940cad5e",
       "version_major": 2,
       "version_minor": 0
      },
      "text/plain": [
       "interactive(children=(Text(value='Jan', description='name'), Button(description='Run Interact', style=ButtonSt…"
      ]
     },
     "metadata": {},
     "output_type": "display_data"
    },
    {
     "name": "stdout",
     "output_type": "stream",
     "text": [
      "The Gender Guess is  male\n"
     ]
    }
   ],
   "source": [
    "import gender_guesser.detector as gender\n",
    "\n",
    "d = gender.Detector()\n",
    "\n",
    "@interact_manual\n",
    "def genderGuesser( name=\"Jan\"):\n",
    "    print(\"The Gender Guess is \",d.get_gender(name))\n",
    "\n",
    "genderGuesser()    "
   ]
  },
  {
   "cell_type": "markdown",
   "metadata": {},
   "source": [
    "Let's derive a new *gender* feature for all our speakers using this library. It will not be perfect it will not be complete, but we will get a first stab at the gender distribution."
   ]
  },
  {
   "cell_type": "code",
   "execution_count": 304,
   "metadata": {},
   "outputs": [
    {
     "data": {
      "text/plain": [
       "0    unknown\n",
       "1    unknown\n",
       "2       male\n",
       "3       male\n",
       "4       male\n",
       "5       male\n",
       "6     female\n",
       "7       male\n",
       "8    unknown\n",
       "9     female\n",
       "Name: gender, dtype: object"
      ]
     },
     "execution_count": 304,
     "metadata": {},
     "output_type": "execute_result"
    }
   ],
   "source": [
    "sp['gender'] = sp['firstName'].apply(lambda name: d.get_gender(name))\n",
    "# look at some of the results\n",
    "sp['gender'][:10]"
   ]
  },
  {
   "cell_type": "markdown",
   "metadata": {},
   "source": [
    "What are some of these first names that have stymied our gender guesser library?"
   ]
  },
  {
   "cell_type": "code",
   "execution_count": 305,
   "metadata": {},
   "outputs": [
    {
     "data": {
      "text/plain": [
       "0           Kuassi\n",
       "1          Srinath\n",
       "8            Eggie\n",
       "19           Gabby\n",
       "26    Ivan Junckes\n",
       "27         Per-Ake\n",
       "33           Elder\n",
       "38          Kishor\n",
       "41          Pratik\n",
       "52        Sungpack\n",
       "Name: firstName, dtype: object"
      ]
     },
     "execution_count": 305,
     "metadata": {},
     "output_type": "execute_result"
    }
   ],
   "source": [
    "sp[sp['gender']=='unknown']['firstName'][:10]"
   ]
  },
  {
   "cell_type": "markdown",
   "metadata": {},
   "source": [
    "Show the gender values derived by the Gender Guesser and the numbers of instances of each:"
   ]
  },
  {
   "cell_type": "code",
   "execution_count": 306,
   "metadata": {},
   "outputs": [
    {
     "data": {
      "text/plain": [
       "male             1573\n",
       "unknown           512\n",
       "female            300\n",
       "mostly_male       126\n",
       "mostly_female      45\n",
       "andy               26\n",
       "Name: gender, dtype: int64"
      ]
     },
     "execution_count": 306,
     "metadata": {},
     "output_type": "execute_result"
    }
   ],
   "source": [
    "# or to be more specific:\n",
    "sp['gender'].value_counts()"
   ]
  },
  {
   "cell_type": "markdown",
   "metadata": {},
   "source": [
    "That is a pretty high number stil of unknowns. Can we improve our data set? \n",
    "\n",
    "In the next cell, we ook at all biographies for the speakers with current gender values of *unknown* and *andy* to check for gender specific words such as 'his, he or him' and 'she or her' - and set those gender values based on that. \n",
    "\n",
    "Alternatively or additionally, we can call the gender REST APIs as listed above - if we really need our gender data to be of higher quality. Or we could try to leverage an image recognition solution powered by machine learning to classify the speaker pictures by gender."
   ]
  },
  {
   "cell_type": "code",
   "execution_count": 307,
   "metadata": {},
   "outputs": [
    {
     "data": {
      "text/plain": [
       "male       71.456235\n",
       "unknown    15.182029\n",
       "female     13.361735\n",
       "Name: gender, dtype: float64"
      ]
     },
     "execution_count": 307,
     "metadata": {},
     "output_type": "execute_result"
    }
   ],
   "source": [
    "#check on gender from bio for all speakers where we have not yet derived male or female\n",
    "\n",
    "genders = ['male','female']\n",
    "\n",
    "# this function derives gender \n",
    "def gender_guess_from_text(bio):\n",
    "    \n",
    "    result = \"unknown\"\n",
    "    genderTermsToCheck = [' him ', ' his ', ' he ','His ','He ']\n",
    "    # if bio contains he, his or him - we go with male\n",
    "    if any(term in bio for term in genderTermsToCheck):\n",
    "        result = \"male\"\n",
    "    # if bio contains she or her - we go with female\n",
    "    genderTermsToCheck = [' she ', ' her ','She','Her ']\n",
    "    if any(term in bio for term in genderTermsToCheck):\n",
    "        result = \"female\"\n",
    "    # if neither - we stick to unknown\n",
    "    return result\n",
    "\n",
    "def gender_for_speaker(speaker):\n",
    "    result = speaker['gender']\n",
    "    # for any speaker whose gender is currently not male or female, let's try to do better\n",
    "    if speaker['gender'] not in genders:\n",
    "        result = gender_guess_from_text(speaker['bio']) \n",
    "    return result\n",
    "\n",
    "sp['gender'] = sp.apply(gender_for_speaker, axis=1)\n",
    "\n",
    "#percentages per gender based after interpreting the biographies\n",
    "sp['gender'].value_counts(normalize=True) * 100\n"
   ]
  },
  {
   "cell_type": "markdown",
   "metadata": {},
   "source": [
    "Leveraging the biographies has helped a little bit, but not all that much to be honest.\n",
    "\n",
    "With the gender derivation we have tried so far, let's see where we stand - in a Pie Chart for example."
   ]
  },
  {
   "cell_type": "code",
   "execution_count": 308,
   "metadata": {},
   "outputs": [
    {
     "data": {
      "text/html": [
       "<script type=\"text/javascript\">window.PlotlyConfig = {MathJaxConfig: 'local'};</script><script type=\"text/javascript\">if (window.MathJax) {MathJax.Hub.Config({SVG: {font: \"STIX-Web\"}});}</script><script>requirejs.config({paths: { 'plotly': ['https://cdn.plot.ly/plotly-latest.min']},});if(!window._Plotly) {require(['plotly'],function(plotly) {window._Plotly=plotly;});}</script>"
      ],
      "text/vnd.plotly.v1+html": [
       "<script type=\"text/javascript\">window.PlotlyConfig = {MathJaxConfig: 'local'};</script><script type=\"text/javascript\">if (window.MathJax) {MathJax.Hub.Config({SVG: {font: \"STIX-Web\"}});}</script><script>requirejs.config({paths: { 'plotly': ['https://cdn.plot.ly/plotly-latest.min']},});if(!window._Plotly) {require(['plotly'],function(plotly) {window._Plotly=plotly;});}</script>"
      ]
     },
     "metadata": {},
     "output_type": "display_data"
    },
    {
     "data": {
      "application/vnd.plotly.v1+json": {
       "config": {
        "linkText": "Export to plot.ly",
        "plotlyServerURL": "https://plot.ly",
        "showLink": false
       },
       "data": [
        {
         "labels": [
          "male",
          "unknown",
          "female"
         ],
         "title": {
          "text": "Gender distribution for speakers"
         },
         "type": "pie",
         "uid": "fef13ebc-2800-4f14-8d4f-33b8c5b9764d",
         "values": [
          0.7145623547637491,
          0.15182029434546862,
          0.13361735089078233
         ]
        }
       ],
       "layout": {}
      },
      "text/html": [
       "<div id=\"1568c032-16d8-47e7-9904-b82fe3097eef\" style=\"height: 525px; width: 100%;\" class=\"plotly-graph-div\"></div><script type=\"text/javascript\">require([\"plotly\"], function(Plotly) { window.PLOTLYENV=window.PLOTLYENV || {};window.PLOTLYENV.BASE_URL=\"https://plot.ly\";Plotly.newPlot(\"1568c032-16d8-47e7-9904-b82fe3097eef\", [{\"labels\": [\"male\", \"unknown\", \"female\"], \"title\": {\"text\": \"Gender distribution for speakers\"}, \"values\": [0.7145623547637491, 0.15182029434546862, 0.13361735089078233], \"type\": \"pie\", \"uid\": \"d13c7a9c-81ed-4063-9492-9bc383134673\"}], {}, {\"showLink\": false, \"linkText\": \"Export to plot.ly\", \"plotlyServerURL\": \"https://plot.ly\"})});</script><script type=\"text/javascript\">window.addEventListener(\"resize\", function(){window._Plotly.Plots.resize(document.getElementById(\"1568c032-16d8-47e7-9904-b82fe3097eef\"));});</script>"
      ],
      "text/vnd.plotly.v1+html": [
       "<div id=\"1568c032-16d8-47e7-9904-b82fe3097eef\" style=\"height: 525px; width: 100%;\" class=\"plotly-graph-div\"></div><script type=\"text/javascript\">require([\"plotly\"], function(Plotly) { window.PLOTLYENV=window.PLOTLYENV || {};window.PLOTLYENV.BASE_URL=\"https://plot.ly\";Plotly.newPlot(\"1568c032-16d8-47e7-9904-b82fe3097eef\", [{\"labels\": [\"male\", \"unknown\", \"female\"], \"title\": {\"text\": \"Gender distribution for speakers\"}, \"values\": [0.7145623547637491, 0.15182029434546862, 0.13361735089078233], \"type\": \"pie\", \"uid\": \"d13c7a9c-81ed-4063-9492-9bc383134673\"}], {}, {\"showLink\": false, \"linkText\": \"Export to plot.ly\", \"plotlyServerURL\": \"https://plot.ly\"})});</script><script type=\"text/javascript\">window.addEventListener(\"resize\", function(){window._Plotly.Plots.resize(document.getElementById(\"1568c032-16d8-47e7-9904-b82fe3097eef\"));});</script>"
      ]
     },
     "metadata": {},
     "output_type": "display_data"
    }
   ],
   "source": [
    "import plotly\n",
    "import plotly.plotly as py\n",
    "import plotly.graph_objs as go\n",
    "import cufflinks as cf\n",
    "import pandas as pd\n",
    "import numpy as np\n",
    "\n",
    "#this line makes plotly work in offline mode (i.e. not connected to PlotLy cloud) and inside running Jupyter Notebook\n",
    "plotly.offline.init_notebook_mode(connected=True)\n",
    "\n",
    "labels = sp['gender'].value_counts(normalize=True).index\n",
    "values = sp['gender'].value_counts(normalize=True).values\n",
    "trace = go.Pie(labels=labels, values=values, title=\"Gender distribution for speakers\")\n",
    "plotly.offline.iplot([trace], filename='basic_pie_chart')"
   ]
  },
  {
   "cell_type": "markdown",
   "metadata": {},
   "source": [
    "How is the distribution of the genders when we compare the two events?"
   ]
  },
  {
   "cell_type": "code",
   "execution_count": 309,
   "metadata": {},
   "outputs": [
    {
     "data": {
      "text/html": [
       "<div>\n",
       "<style scoped>\n",
       "    .dataframe tbody tr th:only-of-type {\n",
       "        vertical-align: middle;\n",
       "    }\n",
       "\n",
       "    .dataframe tbody tr th {\n",
       "        vertical-align: top;\n",
       "    }\n",
       "\n",
       "    .dataframe thead th {\n",
       "        text-align: right;\n",
       "    }\n",
       "</style>\n",
       "<table border=\"1\" class=\"dataframe\">\n",
       "  <thead>\n",
       "    <tr style=\"text-align: right;\">\n",
       "      <th>gender</th>\n",
       "      <th>female</th>\n",
       "      <th>male</th>\n",
       "      <th>unknown</th>\n",
       "    </tr>\n",
       "    <tr>\n",
       "      <th>conference</th>\n",
       "      <th></th>\n",
       "      <th></th>\n",
       "      <th></th>\n",
       "    </tr>\n",
       "  </thead>\n",
       "  <tbody>\n",
       "    <tr>\n",
       "      <th>both</th>\n",
       "      <td>4.0</td>\n",
       "      <td>90.0</td>\n",
       "      <td>5.0</td>\n",
       "    </tr>\n",
       "    <tr>\n",
       "      <th>codeone</th>\n",
       "      <td>11.0</td>\n",
       "      <td>81.0</td>\n",
       "      <td>7.0</td>\n",
       "    </tr>\n",
       "    <tr>\n",
       "      <th>oow</th>\n",
       "      <td>14.0</td>\n",
       "      <td>69.0</td>\n",
       "      <td>17.0</td>\n",
       "    </tr>\n",
       "  </tbody>\n",
       "</table>\n",
       "</div>"
      ],
      "text/plain": [
       "gender      female  male  unknown\n",
       "conference                       \n",
       "both           4.0  90.0      5.0\n",
       "codeone       11.0  81.0      7.0\n",
       "oow           14.0  69.0     17.0"
      ]
     },
     "execution_count": 309,
     "metadata": {},
     "output_type": "execute_result"
    }
   ],
   "source": [
    "def conference_for_speaker(speaker):\n",
    "    return 'both' if speaker['oow']=='Y' and speaker['codeone']=='Y' else 'oow' if speaker['oow']=='Y' else 'codeone' \n",
    "                \n",
    "# derive a single conference feature for all speakers\n",
    "sp['conference'] = sp.apply(conference_for_speaker, axis=1)\n",
    "# create a crosstab for conference and gender\n",
    "pd.crosstab(sp['conference'], sp['gender']).apply(lambda r: 100*r/r.sum(), axis=1).round(0)"
   ]
  },
  {
   "cell_type": "markdown",
   "metadata": {},
   "source": [
    "One of those extremely relevant questions: do male and female speakers behave the same when it comes to uploading their photograph? \n",
    "\n",
    "Surprisingly, the *unknown* category is far more enthusiastic in sending in their picture."
   ]
  },
  {
   "cell_type": "code",
   "execution_count": 310,
   "metadata": {},
   "outputs": [
    {
     "data": {
      "text/html": [
       "<div>\n",
       "<style scoped>\n",
       "    .dataframe tbody tr th:only-of-type {\n",
       "        vertical-align: middle;\n",
       "    }\n",
       "\n",
       "    .dataframe tbody tr th {\n",
       "        vertical-align: top;\n",
       "    }\n",
       "\n",
       "    .dataframe thead th {\n",
       "        text-align: right;\n",
       "    }\n",
       "</style>\n",
       "<table border=\"1\" class=\"dataframe\">\n",
       "  <thead>\n",
       "    <tr style=\"text-align: right;\">\n",
       "      <th>photoURL</th>\n",
       "      <th>False</th>\n",
       "      <th>True</th>\n",
       "    </tr>\n",
       "    <tr>\n",
       "      <th>gender</th>\n",
       "      <th></th>\n",
       "      <th></th>\n",
       "    </tr>\n",
       "  </thead>\n",
       "  <tbody>\n",
       "    <tr>\n",
       "      <th>female</th>\n",
       "      <td>73.0</td>\n",
       "      <td>27.0</td>\n",
       "    </tr>\n",
       "    <tr>\n",
       "      <th>male</th>\n",
       "      <td>74.0</td>\n",
       "      <td>26.0</td>\n",
       "    </tr>\n",
       "    <tr>\n",
       "      <th>unknown</th>\n",
       "      <td>47.0</td>\n",
       "      <td>53.0</td>\n",
       "    </tr>\n",
       "  </tbody>\n",
       "</table>\n",
       "</div>"
      ],
      "text/plain": [
       "photoURL  False  True \n",
       "gender                \n",
       "female     73.0   27.0\n",
       "male       74.0   26.0\n",
       "unknown    47.0   53.0"
      ]
     },
     "execution_count": 310,
     "metadata": {},
     "output_type": "execute_result"
    }
   ],
   "source": [
    "# male and female are behaving the same when it comes to uploading their photograph; surprisingly, the unknown category is far more enthusiastic in sending in their picture\n",
    "pd.crosstab( sp['gender'], sp['photoURL'].isnull()).apply(lambda r: 100*r/r.sum(), axis=1).round(0)"
   ]
  },
  {
   "cell_type": "markdown",
   "metadata": {},
   "source": [
    "<a name=\"bonus\" />"
   ]
  },
  {
   "cell_type": "markdown",
   "metadata": {},
   "source": [
    "# Bonus Explorations\n",
    "Below some bonus exploration of the speaker data. For example on words frequently used in speaker biographies. And on the photographs that speakers are expected to upload."
   ]
  },
  {
   "cell_type": "markdown",
   "metadata": {},
   "source": [
    "## Popular terminology in speaker Biographies\n",
    "What are the words used by speakers when they craft their biographies? Can we find common themes? Typical wording? Can we learn how to write a distinctive biography for ourselves - or do we not feel any need to stand out?"
   ]
  },
  {
   "cell_type": "code",
   "execution_count": 311,
   "metadata": {},
   "outputs": [
    {
     "data": {
      "text/html": [
       "<div align='center' style='width:100%'><div align='center' style='text-align:justify; border-radius: 25px;background: #fff7f7;overflow: auto; width:500px !important; padding:20px; '; text-align: center; word-wrap: break-word;> <span style='color:#8000FF;font-size:0.9500000000000001em;white-space: normal;font-family:verdana;display: inline-block;line-height:30px'>manager&nbsp;</span> <span style='color:#FF5733;font-size:1.25em;white-space: normal;font-family:verdana;display: inline-block;line-height:30px'>technology&nbsp;</span> <span style='color:#bc72d0;font-size:0.8em;white-space: normal;font-family:verdana;display: inline-block;line-height:30px'>president&nbsp;</span> <span style='color:#5F6A6A;font-size:1.6999999999999997em;white-space: normal;font-family:verdana;display: inline-block;line-height:30px'>cloud&nbsp;</span> <span style='color:#8000FF;font-size:0.9500000000000001em;white-space: normal;font-family:verdana;display: inline-block;line-height:30px'>customer&nbsp;</span> <span style='color:#bc72d0;font-size:0.8em;white-space: normal;font-family:verdana;display: inline-block;line-height:30px'>service&nbsp;</span> <span style='color:#8000FF;font-size:0.9500000000000001em;white-space: normal;font-family:verdana;display: inline-block;line-height:30px'>working&nbsp;</span> <span style='color:#bc72d0;font-size:0.8em;white-space: normal;font-family:verdana;display: inline-block;line-height:30px'>developer&nbsp;</span> <span style='color:#223AE6;font-size:1.4em;white-space: normal;font-family:verdana;display: inline-block;line-height:30px'>experience&nbsp;</span> <span style='color:#3498DB;font-size:1.1em;white-space: normal;font-family:verdana;display: inline-block;line-height:30px'>director&nbsp;</span> <span style='color:#8000FF;font-size:0.9500000000000001em;white-space: normal;font-family:verdana;display: inline-block;line-height:30px'>java&nbsp;</span> <span style='color:#8000FF;font-size:0.9500000000000001em;white-space: normal;font-family:verdana;display: inline-block;line-height:30px'>services&nbsp;</span> <span style='color:#8000FF;font-size:0.9500000000000001em;white-space: normal;font-family:verdana;display: inline-block;line-height:30px'>worked&nbsp;</span> <span style='color:#8000FF;font-size:0.9500000000000001em;white-space: normal;font-family:verdana;display: inline-block;line-height:30px'>applications&nbsp;</span> <span style='color:#bc72d0;font-size:0.8em;white-space: normal;font-family:verdana;display: inline-block;line-height:30px'>customers&nbsp;</span> <span style='color:#8000FF;font-size:0.9500000000000001em;white-space: normal;font-family:verdana;display: inline-block;line-height:30px'>systems&nbsp;</span> <span style='color:#bc72d0;font-size:0.8em;white-space: normal;font-family:verdana;display: inline-block;line-height:30px'>application&nbsp;</span> <span style='color:#8000FF;font-size:0.9500000000000001em;white-space: normal;font-family:verdana;display: inline-block;line-height:30px'>database&nbsp;</span> <span style='color:#bc72d0;font-size:0.8em;white-space: normal;font-family:verdana;display: inline-block;line-height:30px'>leading&nbsp;</span> <span style='color:#8000FF;font-size:0.9500000000000001em;white-space: normal;font-family:verdana;display: inline-block;line-height:30px'>senior&nbsp;</span> <span style='color:#3498DB;font-size:1.1em;white-space: normal;font-family:verdana;display: inline-block;line-height:30px'>solutions&nbsp;</span> <span style='color:#8000FF;font-size:0.9500000000000001em;white-space: normal;font-family:verdana;display: inline-block;line-height:30px'>responsible&nbsp;</span> <span style='color:#3498DB;font-size:1.1em;white-space: normal;font-family:verdana;display: inline-block;line-height:30px'>team&nbsp;</span> <span style='color:#8000FF;font-size:0.9500000000000001em;white-space: normal;font-family:verdana;display: inline-block;line-height:30px'>engineering&nbsp;</span> <span style='color:#5F6A6A;font-size:1.6999999999999997em;white-space: normal;font-family:verdana;display: inline-block;line-height:30px'>management&nbsp;</span> <span style='color:#8000FF;font-size:0.9500000000000001em;white-space: normal;font-family:verdana;display: inline-block;line-height:30px'>industry&nbsp;</span> <span style='color:#8000FF;font-size:0.9500000000000001em;white-space: normal;font-family:verdana;display: inline-block;line-height:30px'>strategy&nbsp;</span> <span style='color:#bc72d0;font-size:0.8em;white-space: normal;font-family:verdana;display: inline-block;line-height:30px'>where&nbsp;</span> <span style='color:#2ECC71;font-size:1.5499999999999998em;white-space: normal;font-family:verdana;display: inline-block;line-height:30px'>product&nbsp;</span> <span style='color:#FF5733;font-size:1.25em;white-space: normal;font-family:verdana;display: inline-block;line-height:30px'>development&nbsp;</span> <span style='color:#bc72d0;font-size:0.8em;white-space: normal;font-family:verdana;display: inline-block;line-height:30px'>financial&nbsp;</span> <span style='color:#8000FF;font-size:0.9500000000000001em;white-space: normal;font-family:verdana;display: inline-block;line-height:30px'>including&nbsp;</span> <span style='color:#bc72d0;font-size:0.8em;white-space: normal;font-family:verdana;display: inline-block;line-height:30px'>science&nbsp;</span> <span style='color:#bc72d0;font-size:0.8em;white-space: normal;font-family:verdana;display: inline-block;line-height:30px'>consulting&nbsp;</span> <span style='color:#3498DB;font-size:1.1em;white-space: normal;font-family:verdana;display: inline-block;line-height:30px'>data&nbsp;</span> <span style='color:#bc72d0;font-size:0.8em;white-space: normal;font-family:verdana;display: inline-block;line-height:30px'>marketing&nbsp;</span> <span style='color:#3498DB;font-size:1.1em;white-space: normal;font-family:verdana;display: inline-block;line-height:30px'>software&nbsp;</span> <span style='color:#223AE6;font-size:1.4em;white-space: normal;font-family:verdana;display: inline-block;line-height:30px'>business&nbsp;</span> <span style='color:#3498DB;font-size:1.1em;white-space: normal;font-family:verdana;display: inline-block;line-height:30px'>university&nbsp;</span> <span style='color:#8000FF;font-size:0.9500000000000001em;white-space: normal;font-family:verdana;display: inline-block;line-height:30px'>group&nbsp;</span> <span style='color:#bc72d0;font-size:0.8em;white-space: normal;font-family:verdana;display: inline-block;line-height:30px'>technical&nbsp;</span> <span style='color:#bc72d0;font-size:0.8em;white-space: normal;font-family:verdana;display: inline-block;line-height:30px'>information&nbsp;</span> <span style='color:#8000FF;font-size:0.9500000000000001em;white-space: normal;font-family:verdana;display: inline-block;line-height:30px'>enterprise&nbsp;</span> <span style='color:#8000FF;font-size:0.9500000000000001em;white-space: normal;font-family:verdana;display: inline-block;line-height:30px'>security&nbsp;</span> <span style='color:#bc72d0;font-size:0.8em;white-space: normal;font-family:verdana;display: inline-block;line-height:30px'>support&nbsp;</span> <span style='color:#bc72d0;font-size:0.8em;white-space: normal;font-family:verdana;display: inline-block;line-height:30px'>technologies&nbsp;</span> <span style='color:#b82c2c;font-size:3.4999999999999987em;white-space: normal;font-family:verdana;display: inline-block;line-height:30px'>oracle&nbsp;</span> <span style='color:#8000FF;font-size:0.9500000000000001em;white-space: normal;font-family:verdana;display: inline-block;line-height:30px'>global&nbsp;</span> <span style='color:#bc72d0;font-size:0.8em;white-space: normal;font-family:verdana;display: inline-block;line-height:30px'>products&nbsp;</span> <span style='color:#bc72d0;font-size:0.8em;white-space: normal;font-family:verdana;display: inline-block;line-height:30px'>projects&nbsp;</span></div></div>"
      ],
      "text/plain": [
       "<IPython.core.display.HTML object>"
      ]
     },
     "execution_count": 311,
     "metadata": {},
     "output_type": "execute_result"
    }
   ],
   "source": [
    "from word_cloud.word_cloud_generator import WordCloud\n",
    "from IPython.core.display import HTML\n",
    "\n",
    "ENGLISH_STOP_WORDS = frozenset([\n",
    "    \"a\", \"about\", \"above\", \"across\", \"after\", \"afterwards\", \"again\", \"against\",\n",
    "    \"all\", \"almost\", \"alone\", \"along\", \"already\", \"also\", \"although\", \"always\",\n",
    "    \"am\", \"among\", \"amongst\", \"amoungst\", \"amount\", \"an\", \"and\", \"another\",\n",
    "    \"any\", \"anyhow\", \"anyone\", \"anything\", \"anyway\", \"anywhere\", \"are\",\n",
    "    \"around\", \"as\", \"at\", \"back\", \"be\", \"became\", \"because\", \"become\",\n",
    "    \"becomes\", \"becoming\", \"been\", \"before\", \"beforehand\", \"behind\", \"being\",\n",
    "    \"below\", \"beside\", \"besides\", \"between\", \"beyond\", \"bill\", \"both\",\n",
    "    \"bottom\", \"but\", \"by\", \"call\", \"can\", \"cannot\", \"cant\", \"co\", \"con\",\n",
    "    \"could\", \"couldnt\", \"cry\", \"de\", \"describe\", \"detail\", \"do\", \"done\",\n",
    "    \"down\", \"due\", \"during\", \"each\", \"eg\", \"eight\", \"either\", \"eleven\", \"else\",\n",
    "    \"elsewhere\", \"empty\", \"enough\", \"etc\", \"even\", \"ever\", \"every\", \"everyone\",\n",
    "    \"everything\", \"everywhere\", \"except\", \"few\", \"fifteen\", \"fifty\", \"fill\",\n",
    "    \"find\", \"fire\", \"first\", \"five\", \"for\", \"former\", \"formerly\", \"forty\",\n",
    "    \"found\", \"four\", \"from\", \"front\", \"full\", \"further\", \"get\", \"give\", \"go\",\n",
    "    \"had\", \"has\", \"hasnt\", \"have\", \"he\", \"hence\", \"her\", \"here\", \"hereafter\",\n",
    "    \"who\", \"whoever\", \"whole\", \"whom\", \"whose\", \"why\", \"will\", \"with\",\n",
    "    \"within\", \"without\", \"would\", \"yet\", \"said\",\"you\", \"your\", \"yours\", \"yourself\",\n",
    "    \"yourselves\",\"his\",\"he\",\"she\",\"of\",\"many\",\"the\",\"in\",\"to\",\"is\",\"on\",\"several\",\"com\"\n",
    "    ,\"that\",\"prior\",\"more\",\"over\",\"it\",\"was\",\"currently\",\"years\",\"20\",\"since\"])\n",
    "\n",
    "wc=WordCloud(use_tfidf=False,stopwords=ENGLISH_STOP_WORDS)\n",
    " \n",
    "#don't randomize color, show only top 50; for first 2500 speakers\n",
    "embed_code=wc.get_embed_code(text=sp['bio'][:2500],random_color=False,topn=50)\n",
    "HTML(embed_code)"
   ]
  },
  {
   "cell_type": "markdown",
   "metadata": {},
   "source": [
    "<a name=\"gender\"/>"
   ]
  },
  {
   "cell_type": "markdown",
   "metadata": {},
   "source": [
    "## One picture and a 1000 words - Speaker Photo provided?\n",
    "Each speaker is requested to upload her or his photograph. The question at hand is whether people have obliged - or could not be bothered. We will also explore the use of  pictures in a Jupyter Notebook a little."
   ]
  },
  {
   "cell_type": "code",
   "execution_count": 312,
   "metadata": {},
   "outputs": [
    {
     "data": {
      "image/jpeg": "[encoded data removed]",
      "text/plain": [
       "<IPython.core.display.Image object>"
      ]
     },
     "execution_count": 312,
     "metadata": {},
     "output_type": "execute_result"
    }
   ],
   "source": [
    "sp.loc[0]['photoURL']\n",
    "from IPython.display import Image\n",
    "Image(sp.loc[0]['photoURL'])\n"
   ]
  },
  {
   "cell_type": "code",
   "execution_count": 313,
   "metadata": {},
   "outputs": [
    {
     "data": {
      "text/plain": [
       "Groundbreaker Ambassador       0\n",
       "JavaOne Rockstar               0\n",
       "Oracle ACE Director            0\n",
       "Oracle Java Champion           0\n",
       "bio                            0\n",
       "codeone                        0\n",
       "companyName                    0\n",
       "firstName                      0\n",
       "jobTitle                       0\n",
       "lastName                       0\n",
       "oow                            0\n",
       "oracle_employee                0\n",
       "photoURL                     777\n",
       "sessionCount                   0\n",
       "twitter                     2173\n",
       "conference                     0\n",
       "gender                         0\n",
       "dtype: int64"
      ]
     },
     "execution_count": 313,
     "metadata": {},
     "output_type": "execute_result"
    }
   ],
   "source": [
    "#how many speakers provided their picture/how many did not?\n",
    "#this statements counts the number of null values for each column\n",
    "sp.isnull().sum()"
   ]
  },
  {
   "cell_type": "code",
   "execution_count": 314,
   "metadata": {},
   "outputs": [
    {
     "data": {
      "text/html": [
       "<div>\n",
       "<style scoped>\n",
       "    .dataframe tbody tr th:only-of-type {\n",
       "        vertical-align: middle;\n",
       "    }\n",
       "\n",
       "    .dataframe tbody tr th {\n",
       "        vertical-align: top;\n",
       "    }\n",
       "\n",
       "    .dataframe thead th {\n",
       "        text-align: right;\n",
       "    }\n",
       "</style>\n",
       "<table border=\"1\" class=\"dataframe\">\n",
       "  <thead>\n",
       "    <tr style=\"text-align: right;\">\n",
       "      <th>photoURL</th>\n",
       "      <th>False</th>\n",
       "      <th>True</th>\n",
       "    </tr>\n",
       "    <tr>\n",
       "      <th>oracle_employee</th>\n",
       "      <th></th>\n",
       "      <th></th>\n",
       "    </tr>\n",
       "  </thead>\n",
       "  <tbody>\n",
       "    <tr>\n",
       "      <th>N</th>\n",
       "      <td>78.0</td>\n",
       "      <td>22.0</td>\n",
       "    </tr>\n",
       "    <tr>\n",
       "      <th>Y</th>\n",
       "      <td>61.0</td>\n",
       "      <td>39.0</td>\n",
       "    </tr>\n",
       "  </tbody>\n",
       "</table>\n",
       "</div>"
      ],
      "text/plain": [
       "photoURL         False  True \n",
       "oracle_employee              \n",
       "N                 78.0   22.0\n",
       "Y                 61.0   39.0"
      ]
     },
     "execution_count": 314,
     "metadata": {},
     "output_type": "execute_result"
    }
   ],
   "source": [
    "# would Oracle employees be more or less forthcoming than non Oracle staff regarding their photo?\n",
    "# here we show the percentages of Non Oracle Employees and Oracle staff that did not and did submit a photograph\n",
    "# (it is somewhat disappointing for both cohorts, but especially for the non-Oracle employees; why would that be?)\n",
    "pd.crosstab(sp['oracle_employee'],sp['photoURL'].isnull()).apply(lambda r: 100*r/r.sum(), axis=1).round(0)"
   ]
  },
  {
   "cell_type": "code",
   "execution_count": 315,
   "metadata": {},
   "outputs": [
    {
     "data": {
      "text/html": [
       "<div>\n",
       "<style scoped>\n",
       "    .dataframe tbody tr th:only-of-type {\n",
       "        vertical-align: middle;\n",
       "    }\n",
       "\n",
       "    .dataframe tbody tr th {\n",
       "        vertical-align: top;\n",
       "    }\n",
       "\n",
       "    .dataframe thead th {\n",
       "        text-align: right;\n",
       "    }\n",
       "</style>\n",
       "<table border=\"1\" class=\"dataframe\">\n",
       "  <thead>\n",
       "    <tr style=\"text-align: right;\">\n",
       "      <th></th>\n",
       "      <th>photoURL</th>\n",
       "      <th>oracle_employee</th>\n",
       "      <th>counts</th>\n",
       "    </tr>\n",
       "  </thead>\n",
       "  <tbody>\n",
       "    <tr>\n",
       "      <th>0</th>\n",
       "      <td>False</td>\n",
       "      <td>N</td>\n",
       "      <td>1076</td>\n",
       "    </tr>\n",
       "    <tr>\n",
       "      <th>1</th>\n",
       "      <td>False</td>\n",
       "      <td>Y</td>\n",
       "      <td>729</td>\n",
       "    </tr>\n",
       "    <tr>\n",
       "      <th>2</th>\n",
       "      <td>True</td>\n",
       "      <td>N</td>\n",
       "      <td>311</td>\n",
       "    </tr>\n",
       "    <tr>\n",
       "      <th>3</th>\n",
       "      <td>True</td>\n",
       "      <td>Y</td>\n",
       "      <td>466</td>\n",
       "    </tr>\n",
       "  </tbody>\n",
       "</table>\n",
       "</div>"
      ],
      "text/plain": [
       "   photoURL oracle_employee  counts\n",
       "0     False               N    1076\n",
       "1     False               Y     729\n",
       "2      True               N     311\n",
       "3      True               Y     466"
      ]
     },
     "execution_count": 315,
     "metadata": {},
     "output_type": "execute_result"
    }
   ],
   "source": [
    "#would Oracle employees be more or less forthcoming than non Oracle staff regarding their photo?\n",
    "\n",
    "summ = sp.groupby([sp['photoURL'].isnull(),'oracle_employee']).size().reset_index(name='counts')\n",
    "summ"
   ]
  },
  {
   "cell_type": "code",
   "execution_count": 316,
   "metadata": {},
   "outputs": [
    {
     "data": {
      "image/png": "[encoded data removed]",
      "text/plain": [
       "<Figure size 432x288 with 1 Axes>"
      ]
     },
     "metadata": {},
     "output_type": "display_data"
    }
   ],
   "source": [
    "#in a Venn diagram the collections of 'photo provided' and 'Oracle employee'\n",
    "# Import the library\n",
    "import matplotlib.pyplot as plt\n",
    "# see https://pypi.org/project/matplotlib-venn/ \n",
    "from matplotlib_venn import venn2\n",
    "# the next line is for making the output from matplotlib appear inline in the notebook\n",
    "%matplotlib inline\n",
    " \n",
    "venn2(subsets = (summ.loc[2]['counts'] #YN \n",
    "                 , summ.loc[1]['counts']  #NY\n",
    "                 , summ.loc[3]['counts']  #YY\n",
    "                )        , set_labels = ('Photo provided','Oracle Employees', ))\n",
    "#v.get_label_by_id('A').set_text('Oracle Employees')\n",
    "plt.suptitle(\"Number of speakers that provided a photo (Y/N) and is working for Oracle (Y/N)\")\n",
    "plt.title(\"(The missing value: Number of speakers that provided no photo and is not working for Oracle: \"+str(summ.loc[0]['counts'])+\")\")  #NN)\n",
    "plt.show()"
   ]
  }
 ],
 "metadata": {
  "kernelspec": {
   "display_name": "Python 3",
   "language": "python",
   "name": "python3"
  },
  "language_info": {
   "codemirror_mode": {
    "name": "ipython",
    "version": 3
   },
   "file_extension": ".py",
   "mimetype": "text/x-python",
   "name": "python",
   "nbconvert_exporter": "python",
   "pygments_lexer": "ipython3",
   "version": "3.6.8"
  }
 },
 "nbformat": 4,
 "nbformat_minor": 2
}
